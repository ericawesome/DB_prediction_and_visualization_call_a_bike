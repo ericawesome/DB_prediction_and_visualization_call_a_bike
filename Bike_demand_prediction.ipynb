{
 "cells": [
  {
   "cell_type": "code",
   "execution_count": 1,
   "metadata": {},
   "outputs": [],
   "source": [
    "import pandas as pd"
   ]
  },
  {
   "cell_type": "code",
   "execution_count": 2,
   "metadata": {},
   "outputs": [
    {
     "name": "stdout",
     "output_type": "stream",
     "text": [
      "\u001b[31mBike_demand_prediction.ipynb\u001b[m\u001b[m* \u001b[31mhourly_rentals.csv\u001b[m\u001b[m*\r\n",
      "\u001b[31mDB_weather.csv\u001b[m\u001b[m*               \u001b[31mrelevant_hourly_rentals.csv\u001b[m\u001b[m*\r\n",
      "\u001b[31mGeodata_HH.xlsx\u001b[m\u001b[m*\r\n"
     ]
    }
   ],
   "source": [
    "ls"
   ]
  },
  {
   "cell_type": "code",
   "execution_count": 3,
   "metadata": {},
   "outputs": [],
   "source": [
    "import datetime"
   ]
  },
  {
   "cell_type": "markdown",
   "metadata": {},
   "source": [
    "## Table 1: Bike demand\n",
    "\n",
    "**Station_Start | Timestamp | Count**\n",
    "\n",
    "How many bikes where used at a station per hour"
   ]
  },
  {
   "cell_type": "code",
   "execution_count": 4,
   "metadata": {},
   "outputs": [],
   "source": [
    "table1 = pd.read_csv('relevant_hourly_rentals.csv', sep='|', header=None)"
   ]
  },
  {
   "cell_type": "code",
   "execution_count": 5,
   "metadata": {},
   "outputs": [],
   "source": [
    "table1.columns=['START_RENTAL_ZONE_HAL_ID', 'Timestamp', 'Count']"
   ]
  },
  {
   "cell_type": "code",
   "execution_count": 6,
   "metadata": {},
   "outputs": [],
   "source": [
    "table1['Timestamp'] = pd.to_datetime(table1['Timestamp'])"
   ]
  },
  {
   "cell_type": "code",
   "execution_count": 7,
   "metadata": {},
   "outputs": [
    {
     "data": {
      "text/html": [
       "<div>\n",
       "<style scoped>\n",
       "    .dataframe tbody tr th:only-of-type {\n",
       "        vertical-align: middle;\n",
       "    }\n",
       "\n",
       "    .dataframe tbody tr th {\n",
       "        vertical-align: top;\n",
       "    }\n",
       "\n",
       "    .dataframe thead th {\n",
       "        text-align: right;\n",
       "    }\n",
       "</style>\n",
       "<table border=\"1\" class=\"dataframe\">\n",
       "  <thead>\n",
       "    <tr style=\"text-align: right;\">\n",
       "      <th></th>\n",
       "      <th>START_RENTAL_ZONE_HAL_ID</th>\n",
       "      <th>Timestamp</th>\n",
       "      <th>Count</th>\n",
       "    </tr>\n",
       "  </thead>\n",
       "  <tbody>\n",
       "    <tr>\n",
       "      <th>0</th>\n",
       "      <td>131547.0</td>\n",
       "      <td>2014-01-01</td>\n",
       "      <td>5</td>\n",
       "    </tr>\n",
       "    <tr>\n",
       "      <th>1</th>\n",
       "      <td>131645.0</td>\n",
       "      <td>2014-01-01</td>\n",
       "      <td>3</td>\n",
       "    </tr>\n",
       "    <tr>\n",
       "      <th>2</th>\n",
       "      <td>131646.0</td>\n",
       "      <td>2014-01-01</td>\n",
       "      <td>3</td>\n",
       "    </tr>\n",
       "    <tr>\n",
       "      <th>3</th>\n",
       "      <td>131648.0</td>\n",
       "      <td>2014-01-01</td>\n",
       "      <td>1</td>\n",
       "    </tr>\n",
       "    <tr>\n",
       "      <th>4</th>\n",
       "      <td>131650.0</td>\n",
       "      <td>2014-01-01</td>\n",
       "      <td>2</td>\n",
       "    </tr>\n",
       "  </tbody>\n",
       "</table>\n",
       "</div>"
      ],
      "text/plain": [
       "   START_RENTAL_ZONE_HAL_ID  Timestamp  Count\n",
       "0                  131547.0 2014-01-01      5\n",
       "1                  131645.0 2014-01-01      3\n",
       "2                  131646.0 2014-01-01      3\n",
       "3                  131648.0 2014-01-01      1\n",
       "4                  131650.0 2014-01-01      2"
      ]
     },
     "execution_count": 7,
     "metadata": {},
     "output_type": "execute_result"
    }
   ],
   "source": [
    "table1.head()"
   ]
  },
  {
   "cell_type": "code",
   "execution_count": 8,
   "metadata": {},
   "outputs": [
    {
     "data": {
      "text/plain": [
       "7297454"
      ]
     },
     "execution_count": 8,
     "metadata": {},
     "output_type": "execute_result"
    }
   ],
   "source": [
    "table1['Count'].sum()"
   ]
  },
  {
   "cell_type": "code",
   "execution_count": 9,
   "metadata": {},
   "outputs": [
    {
     "data": {
      "text/html": [
       "<div>\n",
       "<style scoped>\n",
       "    .dataframe tbody tr th:only-of-type {\n",
       "        vertical-align: middle;\n",
       "    }\n",
       "\n",
       "    .dataframe tbody tr th {\n",
       "        vertical-align: top;\n",
       "    }\n",
       "\n",
       "    .dataframe thead th {\n",
       "        text-align: right;\n",
       "    }\n",
       "</style>\n",
       "<table border=\"1\" class=\"dataframe\">\n",
       "  <thead>\n",
       "    <tr style=\"text-align: right;\">\n",
       "      <th></th>\n",
       "      <th>START_RENTAL_ZONE_HAL_ID</th>\n",
       "      <th>Timestamp</th>\n",
       "      <th>Count</th>\n",
       "    </tr>\n",
       "  </thead>\n",
       "  <tbody>\n",
       "    <tr>\n",
       "      <th>64934</th>\n",
       "      <td>NaN</td>\n",
       "      <td>2014-02-19 16:00:00</td>\n",
       "      <td>1</td>\n",
       "    </tr>\n",
       "    <tr>\n",
       "      <th>72092</th>\n",
       "      <td>NaN</td>\n",
       "      <td>2014-02-24 10:00:00</td>\n",
       "      <td>1</td>\n",
       "    </tr>\n",
       "    <tr>\n",
       "      <th>72175</th>\n",
       "      <td>NaN</td>\n",
       "      <td>2014-02-24 11:00:00</td>\n",
       "      <td>1</td>\n",
       "    </tr>\n",
       "    <tr>\n",
       "      <th>122333</th>\n",
       "      <td>NaN</td>\n",
       "      <td>2014-03-27 13:00:00</td>\n",
       "      <td>1</td>\n",
       "    </tr>\n",
       "    <tr>\n",
       "      <th>724876</th>\n",
       "      <td>NaN</td>\n",
       "      <td>2015-03-24 01:00:00</td>\n",
       "      <td>1</td>\n",
       "    </tr>\n",
       "    <tr>\n",
       "      <th>756099</th>\n",
       "      <td>NaN</td>\n",
       "      <td>2015-04-13 09:00:00</td>\n",
       "      <td>1</td>\n",
       "    </tr>\n",
       "    <tr>\n",
       "      <th>831761</th>\n",
       "      <td>NaN</td>\n",
       "      <td>2015-05-23 11:00:00</td>\n",
       "      <td>1</td>\n",
       "    </tr>\n",
       "    <tr>\n",
       "      <th>835734</th>\n",
       "      <td>NaN</td>\n",
       "      <td>2015-05-25 13:00:00</td>\n",
       "      <td>1</td>\n",
       "    </tr>\n",
       "    <tr>\n",
       "      <th>861005</th>\n",
       "      <td>NaN</td>\n",
       "      <td>2015-06-06 19:00:00</td>\n",
       "      <td>1</td>\n",
       "    </tr>\n",
       "    <tr>\n",
       "      <th>967197</th>\n",
       "      <td>NaN</td>\n",
       "      <td>2015-07-25 13:00:00</td>\n",
       "      <td>1</td>\n",
       "    </tr>\n",
       "    <tr>\n",
       "      <th>1002748</th>\n",
       "      <td>NaN</td>\n",
       "      <td>2015-08-10 18:00:00</td>\n",
       "      <td>1</td>\n",
       "    </tr>\n",
       "    <tr>\n",
       "      <th>1046029</th>\n",
       "      <td>NaN</td>\n",
       "      <td>2015-08-30 01:00:00</td>\n",
       "      <td>1</td>\n",
       "    </tr>\n",
       "    <tr>\n",
       "      <th>1049027</th>\n",
       "      <td>NaN</td>\n",
       "      <td>2015-08-31 13:00:00</td>\n",
       "      <td>1</td>\n",
       "    </tr>\n",
       "    <tr>\n",
       "      <th>1084927</th>\n",
       "      <td>NaN</td>\n",
       "      <td>2015-09-17 14:00:00</td>\n",
       "      <td>1</td>\n",
       "    </tr>\n",
       "    <tr>\n",
       "      <th>1342345</th>\n",
       "      <td>NaN</td>\n",
       "      <td>2016-02-08 09:00:00</td>\n",
       "      <td>1</td>\n",
       "    </tr>\n",
       "    <tr>\n",
       "      <th>1546975</th>\n",
       "      <td>NaN</td>\n",
       "      <td>2016-05-21 00:00:00</td>\n",
       "      <td>1</td>\n",
       "    </tr>\n",
       "    <tr>\n",
       "      <th>1588708</th>\n",
       "      <td>NaN</td>\n",
       "      <td>2016-06-07 09:00:00</td>\n",
       "      <td>1</td>\n",
       "    </tr>\n",
       "    <tr>\n",
       "      <th>1599067</th>\n",
       "      <td>NaN</td>\n",
       "      <td>2016-06-11 11:00:00</td>\n",
       "      <td>2</td>\n",
       "    </tr>\n",
       "    <tr>\n",
       "      <th>1629634</th>\n",
       "      <td>NaN</td>\n",
       "      <td>2016-06-24 10:00:00</td>\n",
       "      <td>1</td>\n",
       "    </tr>\n",
       "    <tr>\n",
       "      <th>1655160</th>\n",
       "      <td>NaN</td>\n",
       "      <td>2016-07-05 09:00:00</td>\n",
       "      <td>1</td>\n",
       "    </tr>\n",
       "    <tr>\n",
       "      <th>1680768</th>\n",
       "      <td>NaN</td>\n",
       "      <td>2016-07-16 01:00:00</td>\n",
       "      <td>1</td>\n",
       "    </tr>\n",
       "    <tr>\n",
       "      <th>1882887</th>\n",
       "      <td>NaN</td>\n",
       "      <td>2016-10-06 21:00:00</td>\n",
       "      <td>1</td>\n",
       "    </tr>\n",
       "    <tr>\n",
       "      <th>1908777</th>\n",
       "      <td>NaN</td>\n",
       "      <td>2016-10-19 09:00:00</td>\n",
       "      <td>1</td>\n",
       "    </tr>\n",
       "  </tbody>\n",
       "</table>\n",
       "</div>"
      ],
      "text/plain": [
       "         START_RENTAL_ZONE_HAL_ID           Timestamp  Count\n",
       "64934                         NaN 2014-02-19 16:00:00      1\n",
       "72092                         NaN 2014-02-24 10:00:00      1\n",
       "72175                         NaN 2014-02-24 11:00:00      1\n",
       "122333                        NaN 2014-03-27 13:00:00      1\n",
       "724876                        NaN 2015-03-24 01:00:00      1\n",
       "756099                        NaN 2015-04-13 09:00:00      1\n",
       "831761                        NaN 2015-05-23 11:00:00      1\n",
       "835734                        NaN 2015-05-25 13:00:00      1\n",
       "861005                        NaN 2015-06-06 19:00:00      1\n",
       "967197                        NaN 2015-07-25 13:00:00      1\n",
       "1002748                       NaN 2015-08-10 18:00:00      1\n",
       "1046029                       NaN 2015-08-30 01:00:00      1\n",
       "1049027                       NaN 2015-08-31 13:00:00      1\n",
       "1084927                       NaN 2015-09-17 14:00:00      1\n",
       "1342345                       NaN 2016-02-08 09:00:00      1\n",
       "1546975                       NaN 2016-05-21 00:00:00      1\n",
       "1588708                       NaN 2016-06-07 09:00:00      1\n",
       "1599067                       NaN 2016-06-11 11:00:00      2\n",
       "1629634                       NaN 2016-06-24 10:00:00      1\n",
       "1655160                       NaN 2016-07-05 09:00:00      1\n",
       "1680768                       NaN 2016-07-16 01:00:00      1\n",
       "1882887                       NaN 2016-10-06 21:00:00      1\n",
       "1908777                       NaN 2016-10-19 09:00:00      1"
      ]
     },
     "execution_count": 9,
     "metadata": {},
     "output_type": "execute_result"
    }
   ],
   "source": [
    "table1[table1.isnull().any(axis=1)]"
   ]
  },
  {
   "cell_type": "code",
   "execution_count": 10,
   "metadata": {},
   "outputs": [],
   "source": [
    "table1 = table1.dropna()"
   ]
  },
  {
   "cell_type": "code",
   "execution_count": 11,
   "metadata": {},
   "outputs": [
    {
     "data": {
      "text/html": [
       "<div>\n",
       "<style scoped>\n",
       "    .dataframe tbody tr th:only-of-type {\n",
       "        vertical-align: middle;\n",
       "    }\n",
       "\n",
       "    .dataframe tbody tr th {\n",
       "        vertical-align: top;\n",
       "    }\n",
       "\n",
       "    .dataframe thead th {\n",
       "        text-align: right;\n",
       "    }\n",
       "</style>\n",
       "<table border=\"1\" class=\"dataframe\">\n",
       "  <thead>\n",
       "    <tr style=\"text-align: right;\">\n",
       "      <th></th>\n",
       "      <th>START_RENTAL_ZONE_HAL_ID</th>\n",
       "      <th>Timestamp</th>\n",
       "      <th>Count</th>\n",
       "    </tr>\n",
       "  </thead>\n",
       "  <tbody>\n",
       "    <tr>\n",
       "      <th>2049341</th>\n",
       "      <td>244943.0</td>\n",
       "      <td>2016-12-31 23:00:00</td>\n",
       "      <td>3</td>\n",
       "    </tr>\n",
       "    <tr>\n",
       "      <th>2049342</th>\n",
       "      <td>244944.0</td>\n",
       "      <td>2016-12-31 23:00:00</td>\n",
       "      <td>2</td>\n",
       "    </tr>\n",
       "    <tr>\n",
       "      <th>2049343</th>\n",
       "      <td>244945.0</td>\n",
       "      <td>2016-12-31 23:00:00</td>\n",
       "      <td>2</td>\n",
       "    </tr>\n",
       "    <tr>\n",
       "      <th>2049344</th>\n",
       "      <td>247852.0</td>\n",
       "      <td>2016-12-31 23:00:00</td>\n",
       "      <td>3</td>\n",
       "    </tr>\n",
       "    <tr>\n",
       "      <th>2049345</th>\n",
       "      <td>252485.0</td>\n",
       "      <td>2016-12-31 23:00:00</td>\n",
       "      <td>1</td>\n",
       "    </tr>\n",
       "  </tbody>\n",
       "</table>\n",
       "</div>"
      ],
      "text/plain": [
       "         START_RENTAL_ZONE_HAL_ID           Timestamp  Count\n",
       "2049341                  244943.0 2016-12-31 23:00:00      3\n",
       "2049342                  244944.0 2016-12-31 23:00:00      2\n",
       "2049343                  244945.0 2016-12-31 23:00:00      2\n",
       "2049344                  247852.0 2016-12-31 23:00:00      3\n",
       "2049345                  252485.0 2016-12-31 23:00:00      1"
      ]
     },
     "execution_count": 11,
     "metadata": {},
     "output_type": "execute_result"
    }
   ],
   "source": [
    "table1.tail()"
   ]
  },
  {
   "cell_type": "code",
   "execution_count": 12,
   "metadata": {},
   "outputs": [
    {
     "data": {
      "text/html": [
       "<div>\n",
       "<style scoped>\n",
       "    .dataframe tbody tr th:only-of-type {\n",
       "        vertical-align: middle;\n",
       "    }\n",
       "\n",
       "    .dataframe tbody tr th {\n",
       "        vertical-align: top;\n",
       "    }\n",
       "\n",
       "    .dataframe thead th {\n",
       "        text-align: right;\n",
       "    }\n",
       "</style>\n",
       "<table border=\"1\" class=\"dataframe\">\n",
       "  <thead>\n",
       "    <tr style=\"text-align: right;\">\n",
       "      <th></th>\n",
       "      <th>START_RENTAL_ZONE_HAL_ID</th>\n",
       "      <th>Timestamp</th>\n",
       "      <th>Count</th>\n",
       "    </tr>\n",
       "  </thead>\n",
       "  <tbody>\n",
       "  </tbody>\n",
       "</table>\n",
       "</div>"
      ],
      "text/plain": [
       "Empty DataFrame\n",
       "Columns: [START_RENTAL_ZONE_HAL_ID, Timestamp, Count]\n",
       "Index: []"
      ]
     },
     "execution_count": 12,
     "metadata": {},
     "output_type": "execute_result"
    }
   ],
   "source": [
    "table1[table1.isnull().any(axis=1)]"
   ]
  },
  {
   "cell_type": "markdown",
   "metadata": {},
   "source": [
    "---"
   ]
  },
  {
   "cell_type": "markdown",
   "metadata": {},
   "source": [
    "## Table 2: weather data\n",
    "\n",
    "**Timestamp | Temperature | Windspeed | Rain**"
   ]
  },
  {
   "cell_type": "code",
   "execution_count": 13,
   "metadata": {},
   "outputs": [
    {
     "data": {
      "text/html": [
       "<div>\n",
       "<style scoped>\n",
       "    .dataframe tbody tr th:only-of-type {\n",
       "        vertical-align: middle;\n",
       "    }\n",
       "\n",
       "    .dataframe tbody tr th {\n",
       "        vertical-align: top;\n",
       "    }\n",
       "\n",
       "    .dataframe thead th {\n",
       "        text-align: right;\n",
       "    }\n",
       "</style>\n",
       "<table border=\"1\" class=\"dataframe\">\n",
       "  <thead>\n",
       "    <tr style=\"text-align: right;\">\n",
       "      <th></th>\n",
       "      <th>Time</th>\n",
       "      <th>Temp</th>\n",
       "      <th>Wind speed</th>\n",
       "      <th>Rain</th>\n",
       "    </tr>\n",
       "  </thead>\n",
       "  <tbody>\n",
       "    <tr>\n",
       "      <th>0</th>\n",
       "      <td>01.01.2014 00:00</td>\n",
       "      <td>2.4</td>\n",
       "      <td>4</td>\n",
       "      <td>0</td>\n",
       "    </tr>\n",
       "    <tr>\n",
       "      <th>1</th>\n",
       "      <td>01.01.2014 01:00</td>\n",
       "      <td>2.1</td>\n",
       "      <td>6</td>\n",
       "      <td>0</td>\n",
       "    </tr>\n",
       "    <tr>\n",
       "      <th>2</th>\n",
       "      <td>01.01.2014 02:00</td>\n",
       "      <td>2.0</td>\n",
       "      <td>5</td>\n",
       "      <td>0</td>\n",
       "    </tr>\n",
       "    <tr>\n",
       "      <th>3</th>\n",
       "      <td>01.01.2014 03:00</td>\n",
       "      <td>2.1</td>\n",
       "      <td>5</td>\n",
       "      <td>0</td>\n",
       "    </tr>\n",
       "    <tr>\n",
       "      <th>4</th>\n",
       "      <td>01.01.2014 04:00</td>\n",
       "      <td>1.6</td>\n",
       "      <td>5</td>\n",
       "      <td>0</td>\n",
       "    </tr>\n",
       "  </tbody>\n",
       "</table>\n",
       "</div>"
      ],
      "text/plain": [
       "               Time  Temp  Wind speed  Rain\n",
       "0  01.01.2014 00:00   2.4           4     0\n",
       "1  01.01.2014 01:00   2.1           6     0\n",
       "2  01.01.2014 02:00   2.0           5     0\n",
       "3  01.01.2014 03:00   2.1           5     0\n",
       "4  01.01.2014 04:00   1.6           5     0"
      ]
     },
     "execution_count": 13,
     "metadata": {},
     "output_type": "execute_result"
    }
   ],
   "source": [
    "table2 = pd.read_csv('DB_weather.csv', sep=';')\n",
    "del table2[\"Unnamed: 0\"]\n",
    "table2.head()"
   ]
  },
  {
   "cell_type": "code",
   "execution_count": 14,
   "metadata": {},
   "outputs": [],
   "source": [
    "table2.columns=['Timestamp', 'Temp', 'Windspeed', 'Rain']"
   ]
  },
  {
   "cell_type": "code",
   "execution_count": 15,
   "metadata": {},
   "outputs": [],
   "source": [
    "table2['Timestamp'] = pd.to_datetime(table2['Timestamp'])"
   ]
  },
  {
   "cell_type": "code",
   "execution_count": 16,
   "metadata": {},
   "outputs": [
    {
     "data": {
      "text/plain": [
       "(18475, 4)"
      ]
     },
     "execution_count": 16,
     "metadata": {},
     "output_type": "execute_result"
    }
   ],
   "source": [
    "table2.shape"
   ]
  },
  {
   "cell_type": "code",
   "execution_count": 17,
   "metadata": {},
   "outputs": [
    {
     "data": {
      "text/html": [
       "<div>\n",
       "<style scoped>\n",
       "    .dataframe tbody tr th:only-of-type {\n",
       "        vertical-align: middle;\n",
       "    }\n",
       "\n",
       "    .dataframe tbody tr th {\n",
       "        vertical-align: top;\n",
       "    }\n",
       "\n",
       "    .dataframe thead th {\n",
       "        text-align: right;\n",
       "    }\n",
       "</style>\n",
       "<table border=\"1\" class=\"dataframe\">\n",
       "  <thead>\n",
       "    <tr style=\"text-align: right;\">\n",
       "      <th></th>\n",
       "      <th>Timestamp</th>\n",
       "      <th>Temp</th>\n",
       "      <th>Windspeed</th>\n",
       "      <th>Rain</th>\n",
       "    </tr>\n",
       "  </thead>\n",
       "  <tbody>\n",
       "    <tr>\n",
       "      <th>0</th>\n",
       "      <td>2014-01-01 00:00:00</td>\n",
       "      <td>2.4</td>\n",
       "      <td>4</td>\n",
       "      <td>0</td>\n",
       "    </tr>\n",
       "    <tr>\n",
       "      <th>1</th>\n",
       "      <td>2014-01-01 01:00:00</td>\n",
       "      <td>2.1</td>\n",
       "      <td>6</td>\n",
       "      <td>0</td>\n",
       "    </tr>\n",
       "    <tr>\n",
       "      <th>2</th>\n",
       "      <td>2014-01-01 02:00:00</td>\n",
       "      <td>2.0</td>\n",
       "      <td>5</td>\n",
       "      <td>0</td>\n",
       "    </tr>\n",
       "    <tr>\n",
       "      <th>3</th>\n",
       "      <td>2014-01-01 03:00:00</td>\n",
       "      <td>2.1</td>\n",
       "      <td>5</td>\n",
       "      <td>0</td>\n",
       "    </tr>\n",
       "    <tr>\n",
       "      <th>4</th>\n",
       "      <td>2014-01-01 04:00:00</td>\n",
       "      <td>1.6</td>\n",
       "      <td>5</td>\n",
       "      <td>0</td>\n",
       "    </tr>\n",
       "  </tbody>\n",
       "</table>\n",
       "</div>"
      ],
      "text/plain": [
       "            Timestamp  Temp  Windspeed  Rain\n",
       "0 2014-01-01 00:00:00   2.4          4     0\n",
       "1 2014-01-01 01:00:00   2.1          6     0\n",
       "2 2014-01-01 02:00:00   2.0          5     0\n",
       "3 2014-01-01 03:00:00   2.1          5     0\n",
       "4 2014-01-01 04:00:00   1.6          5     0"
      ]
     },
     "execution_count": 17,
     "metadata": {},
     "output_type": "execute_result"
    }
   ],
   "source": [
    "table2.head()"
   ]
  },
  {
   "cell_type": "code",
   "execution_count": 18,
   "metadata": {},
   "outputs": [
    {
     "name": "stdout",
     "output_type": "stream",
     "text": [
      "<class 'pandas.core.frame.DataFrame'>\n",
      "RangeIndex: 18475 entries, 0 to 18474\n",
      "Data columns (total 4 columns):\n",
      "Timestamp    18475 non-null datetime64[ns]\n",
      "Temp         18475 non-null float64\n",
      "Windspeed    18475 non-null int64\n",
      "Rain         18475 non-null int64\n",
      "dtypes: datetime64[ns](1), float64(1), int64(2)\n",
      "memory usage: 577.4 KB\n"
     ]
    }
   ],
   "source": [
    "table2.info()"
   ]
  },
  {
   "cell_type": "markdown",
   "metadata": {},
   "source": [
    "---"
   ]
  },
  {
   "cell_type": "markdown",
   "metadata": {},
   "source": [
    "## Table 3\n",
    "\n",
    "**Timestamp | year | month | day | weekday | hour | holiday | not_workday | not_workday_shift | school_holiday**"
   ]
  },
  {
   "cell_type": "code",
   "execution_count": 19,
   "metadata": {},
   "outputs": [],
   "source": [
    "table3 = pd.DataFrame(table2['Timestamp'])"
   ]
  },
  {
   "cell_type": "code",
   "execution_count": 20,
   "metadata": {},
   "outputs": [
    {
     "data": {
      "text/html": [
       "<div>\n",
       "<style scoped>\n",
       "    .dataframe tbody tr th:only-of-type {\n",
       "        vertical-align: middle;\n",
       "    }\n",
       "\n",
       "    .dataframe tbody tr th {\n",
       "        vertical-align: top;\n",
       "    }\n",
       "\n",
       "    .dataframe thead th {\n",
       "        text-align: right;\n",
       "    }\n",
       "</style>\n",
       "<table border=\"1\" class=\"dataframe\">\n",
       "  <thead>\n",
       "    <tr style=\"text-align: right;\">\n",
       "      <th></th>\n",
       "      <th>Timestamp</th>\n",
       "    </tr>\n",
       "  </thead>\n",
       "  <tbody>\n",
       "    <tr>\n",
       "      <th>0</th>\n",
       "      <td>2014-01-01 00:00:00</td>\n",
       "    </tr>\n",
       "    <tr>\n",
       "      <th>1</th>\n",
       "      <td>2014-01-01 01:00:00</td>\n",
       "    </tr>\n",
       "    <tr>\n",
       "      <th>2</th>\n",
       "      <td>2014-01-01 02:00:00</td>\n",
       "    </tr>\n",
       "    <tr>\n",
       "      <th>3</th>\n",
       "      <td>2014-01-01 03:00:00</td>\n",
       "    </tr>\n",
       "    <tr>\n",
       "      <th>4</th>\n",
       "      <td>2014-01-01 04:00:00</td>\n",
       "    </tr>\n",
       "  </tbody>\n",
       "</table>\n",
       "</div>"
      ],
      "text/plain": [
       "            Timestamp\n",
       "0 2014-01-01 00:00:00\n",
       "1 2014-01-01 01:00:00\n",
       "2 2014-01-01 02:00:00\n",
       "3 2014-01-01 03:00:00\n",
       "4 2014-01-01 04:00:00"
      ]
     },
     "execution_count": 20,
     "metadata": {},
     "output_type": "execute_result"
    }
   ],
   "source": [
    "table3.head()"
   ]
  },
  {
   "cell_type": "code",
   "execution_count": 21,
   "metadata": {},
   "outputs": [],
   "source": [
    "table3['year'] = table3['Timestamp'].dt.year\n",
    "table3['month'] = table3['Timestamp'].dt.month\n",
    "table3['day'] = table3['Timestamp'].dt.day\n",
    "table3['weekday'] = table3['Timestamp'].dt.weekday\n",
    "table3['hour'] = table3['Timestamp'].dt.hour"
   ]
  },
  {
   "cell_type": "code",
   "execution_count": 22,
   "metadata": {},
   "outputs": [
    {
     "data": {
      "text/html": [
       "<div>\n",
       "<style scoped>\n",
       "    .dataframe tbody tr th:only-of-type {\n",
       "        vertical-align: middle;\n",
       "    }\n",
       "\n",
       "    .dataframe tbody tr th {\n",
       "        vertical-align: top;\n",
       "    }\n",
       "\n",
       "    .dataframe thead th {\n",
       "        text-align: right;\n",
       "    }\n",
       "</style>\n",
       "<table border=\"1\" class=\"dataframe\">\n",
       "  <thead>\n",
       "    <tr style=\"text-align: right;\">\n",
       "      <th></th>\n",
       "      <th>Timestamp</th>\n",
       "      <th>year</th>\n",
       "      <th>month</th>\n",
       "      <th>day</th>\n",
       "      <th>weekday</th>\n",
       "      <th>hour</th>\n",
       "    </tr>\n",
       "  </thead>\n",
       "  <tbody>\n",
       "    <tr>\n",
       "      <th>18470</th>\n",
       "      <td>2016-12-31 19:00:00</td>\n",
       "      <td>2016</td>\n",
       "      <td>12</td>\n",
       "      <td>31</td>\n",
       "      <td>5</td>\n",
       "      <td>19</td>\n",
       "    </tr>\n",
       "    <tr>\n",
       "      <th>18471</th>\n",
       "      <td>2016-12-31 20:00:00</td>\n",
       "      <td>2016</td>\n",
       "      <td>12</td>\n",
       "      <td>31</td>\n",
       "      <td>5</td>\n",
       "      <td>20</td>\n",
       "    </tr>\n",
       "    <tr>\n",
       "      <th>18472</th>\n",
       "      <td>2016-12-31 21:00:00</td>\n",
       "      <td>2016</td>\n",
       "      <td>12</td>\n",
       "      <td>31</td>\n",
       "      <td>5</td>\n",
       "      <td>21</td>\n",
       "    </tr>\n",
       "    <tr>\n",
       "      <th>18473</th>\n",
       "      <td>2016-12-31 22:00:00</td>\n",
       "      <td>2016</td>\n",
       "      <td>12</td>\n",
       "      <td>31</td>\n",
       "      <td>5</td>\n",
       "      <td>22</td>\n",
       "    </tr>\n",
       "    <tr>\n",
       "      <th>18474</th>\n",
       "      <td>2016-12-31 23:00:00</td>\n",
       "      <td>2016</td>\n",
       "      <td>12</td>\n",
       "      <td>31</td>\n",
       "      <td>5</td>\n",
       "      <td>23</td>\n",
       "    </tr>\n",
       "  </tbody>\n",
       "</table>\n",
       "</div>"
      ],
      "text/plain": [
       "                Timestamp  year  month  day  weekday  hour\n",
       "18470 2016-12-31 19:00:00  2016     12   31        5    19\n",
       "18471 2016-12-31 20:00:00  2016     12   31        5    20\n",
       "18472 2016-12-31 21:00:00  2016     12   31        5    21\n",
       "18473 2016-12-31 22:00:00  2016     12   31        5    22\n",
       "18474 2016-12-31 23:00:00  2016     12   31        5    23"
      ]
     },
     "execution_count": 22,
     "metadata": {},
     "output_type": "execute_result"
    }
   ],
   "source": [
    "table3.tail()"
   ]
  },
  {
   "cell_type": "markdown",
   "metadata": {},
   "source": [
    "---"
   ]
  },
  {
   "cell_type": "markdown",
   "metadata": {},
   "source": [
    "#### public holidays in HH"
   ]
  },
  {
   "cell_type": "code",
   "execution_count": 23,
   "metadata": {},
   "outputs": [
    {
     "name": "stdout",
     "output_type": "stream",
     "text": [
      "Requirement already satisfied: holidays in /Users/ericliebig/anaconda3/lib/python3.7/site-packages (0.9.10)\r\n",
      "Requirement already satisfied: six in /Users/ericliebig/anaconda3/lib/python3.7/site-packages (from holidays) (1.12.0)\r\n",
      "Requirement already satisfied: python-dateutil in /Users/ericliebig/anaconda3/lib/python3.7/site-packages (from holidays) (2.8.0)\r\n"
     ]
    }
   ],
   "source": [
    "!pip install holidays"
   ]
  },
  {
   "cell_type": "code",
   "execution_count": 24,
   "metadata": {},
   "outputs": [],
   "source": [
    "from datetime import date\n",
    "import holidays"
   ]
  },
  {
   "cell_type": "code",
   "execution_count": 25,
   "metadata": {},
   "outputs": [],
   "source": [
    "hh_holidays = holidays.CountryHoliday('DE', prov='HH')"
   ]
  },
  {
   "cell_type": "code",
   "execution_count": 26,
   "metadata": {},
   "outputs": [
    {
     "data": {
      "text/plain": [
       "True"
      ]
     },
     "execution_count": 26,
     "metadata": {},
     "output_type": "execute_result"
    }
   ],
   "source": [
    "date(2014, 1, 1) in hh_holidays\n",
    "date(2015, 1, 1) in hh_holidays\n",
    "date(2016, 1, 1) in hh_holidays"
   ]
  },
  {
   "cell_type": "code",
   "execution_count": 27,
   "metadata": {
    "scrolled": true
   },
   "outputs": [],
   "source": [
    "hh_holidays = pd.DataFrame(list(hh_holidays.keys()))"
   ]
  },
  {
   "cell_type": "code",
   "execution_count": 28,
   "metadata": {},
   "outputs": [],
   "source": [
    "hh_holidays['holiday']='1'"
   ]
  },
  {
   "cell_type": "code",
   "execution_count": 29,
   "metadata": {},
   "outputs": [],
   "source": [
    "hh_holidays.columns=['Timestamp', 'holiday'] "
   ]
  },
  {
   "cell_type": "code",
   "execution_count": 30,
   "metadata": {},
   "outputs": [],
   "source": [
    "hh_holidays['Timestamp'] = pd.to_datetime(hh_holidays['Timestamp'])\n",
    "hh_holidays[\"shortTime\"] = hh_holidays[\"Timestamp\"].apply(lambda row : row.strftime(\"%Y-%m-%d\"))"
   ]
  },
  {
   "cell_type": "code",
   "execution_count": 31,
   "metadata": {},
   "outputs": [
    {
     "data": {
      "text/html": [
       "<div>\n",
       "<style scoped>\n",
       "    .dataframe tbody tr th:only-of-type {\n",
       "        vertical-align: middle;\n",
       "    }\n",
       "\n",
       "    .dataframe tbody tr th {\n",
       "        vertical-align: top;\n",
       "    }\n",
       "\n",
       "    .dataframe thead th {\n",
       "        text-align: right;\n",
       "    }\n",
       "</style>\n",
       "<table border=\"1\" class=\"dataframe\">\n",
       "  <thead>\n",
       "    <tr style=\"text-align: right;\">\n",
       "      <th></th>\n",
       "      <th>Timestamp</th>\n",
       "      <th>holiday</th>\n",
       "      <th>shortTime</th>\n",
       "    </tr>\n",
       "  </thead>\n",
       "  <tbody>\n",
       "    <tr>\n",
       "      <th>0</th>\n",
       "      <td>2014-01-01</td>\n",
       "      <td>1</td>\n",
       "      <td>2014-01-01</td>\n",
       "    </tr>\n",
       "    <tr>\n",
       "      <th>1</th>\n",
       "      <td>2014-04-18</td>\n",
       "      <td>1</td>\n",
       "      <td>2014-04-18</td>\n",
       "    </tr>\n",
       "    <tr>\n",
       "      <th>2</th>\n",
       "      <td>2014-04-21</td>\n",
       "      <td>1</td>\n",
       "      <td>2014-04-21</td>\n",
       "    </tr>\n",
       "    <tr>\n",
       "      <th>3</th>\n",
       "      <td>2014-05-01</td>\n",
       "      <td>1</td>\n",
       "      <td>2014-05-01</td>\n",
       "    </tr>\n",
       "    <tr>\n",
       "      <th>4</th>\n",
       "      <td>2014-05-29</td>\n",
       "      <td>1</td>\n",
       "      <td>2014-05-29</td>\n",
       "    </tr>\n",
       "  </tbody>\n",
       "</table>\n",
       "</div>"
      ],
      "text/plain": [
       "   Timestamp holiday   shortTime\n",
       "0 2014-01-01       1  2014-01-01\n",
       "1 2014-04-18       1  2014-04-18\n",
       "2 2014-04-21       1  2014-04-21\n",
       "3 2014-05-01       1  2014-05-01\n",
       "4 2014-05-29       1  2014-05-29"
      ]
     },
     "execution_count": 31,
     "metadata": {},
     "output_type": "execute_result"
    }
   ],
   "source": [
    "hh_holidays.head()"
   ]
  },
  {
   "cell_type": "code",
   "execution_count": 32,
   "metadata": {
    "scrolled": true
   },
   "outputs": [
    {
     "name": "stdout",
     "output_type": "stream",
     "text": [
      "<class 'pandas.core.frame.DataFrame'>\n",
      "RangeIndex: 27 entries, 0 to 26\n",
      "Data columns (total 3 columns):\n",
      "Timestamp    27 non-null datetime64[ns]\n",
      "holiday      27 non-null object\n",
      "shortTime    27 non-null object\n",
      "dtypes: datetime64[ns](1), object(2)\n",
      "memory usage: 728.0+ bytes\n"
     ]
    }
   ],
   "source": [
    "hh_holidays.info()"
   ]
  },
  {
   "cell_type": "code",
   "execution_count": 33,
   "metadata": {},
   "outputs": [
    {
     "data": {
      "text/html": [
       "<div>\n",
       "<style scoped>\n",
       "    .dataframe tbody tr th:only-of-type {\n",
       "        vertical-align: middle;\n",
       "    }\n",
       "\n",
       "    .dataframe tbody tr th {\n",
       "        vertical-align: top;\n",
       "    }\n",
       "\n",
       "    .dataframe thead th {\n",
       "        text-align: right;\n",
       "    }\n",
       "</style>\n",
       "<table border=\"1\" class=\"dataframe\">\n",
       "  <thead>\n",
       "    <tr style=\"text-align: right;\">\n",
       "      <th></th>\n",
       "      <th>Timestamp</th>\n",
       "      <th>year</th>\n",
       "      <th>month</th>\n",
       "      <th>day</th>\n",
       "      <th>weekday</th>\n",
       "      <th>hour</th>\n",
       "      <th>shortTime</th>\n",
       "    </tr>\n",
       "  </thead>\n",
       "  <tbody>\n",
       "    <tr>\n",
       "      <th>0</th>\n",
       "      <td>2014-01-01 00:00:00</td>\n",
       "      <td>2014</td>\n",
       "      <td>1</td>\n",
       "      <td>1</td>\n",
       "      <td>2</td>\n",
       "      <td>0</td>\n",
       "      <td>2014-01-01</td>\n",
       "    </tr>\n",
       "    <tr>\n",
       "      <th>1</th>\n",
       "      <td>2014-01-01 01:00:00</td>\n",
       "      <td>2014</td>\n",
       "      <td>1</td>\n",
       "      <td>1</td>\n",
       "      <td>2</td>\n",
       "      <td>1</td>\n",
       "      <td>2014-01-01</td>\n",
       "    </tr>\n",
       "    <tr>\n",
       "      <th>2</th>\n",
       "      <td>2014-01-01 02:00:00</td>\n",
       "      <td>2014</td>\n",
       "      <td>1</td>\n",
       "      <td>1</td>\n",
       "      <td>2</td>\n",
       "      <td>2</td>\n",
       "      <td>2014-01-01</td>\n",
       "    </tr>\n",
       "    <tr>\n",
       "      <th>3</th>\n",
       "      <td>2014-01-01 03:00:00</td>\n",
       "      <td>2014</td>\n",
       "      <td>1</td>\n",
       "      <td>1</td>\n",
       "      <td>2</td>\n",
       "      <td>3</td>\n",
       "      <td>2014-01-01</td>\n",
       "    </tr>\n",
       "    <tr>\n",
       "      <th>4</th>\n",
       "      <td>2014-01-01 04:00:00</td>\n",
       "      <td>2014</td>\n",
       "      <td>1</td>\n",
       "      <td>1</td>\n",
       "      <td>2</td>\n",
       "      <td>4</td>\n",
       "      <td>2014-01-01</td>\n",
       "    </tr>\n",
       "  </tbody>\n",
       "</table>\n",
       "</div>"
      ],
      "text/plain": [
       "            Timestamp  year  month  day  weekday  hour   shortTime\n",
       "0 2014-01-01 00:00:00  2014      1    1        2     0  2014-01-01\n",
       "1 2014-01-01 01:00:00  2014      1    1        2     1  2014-01-01\n",
       "2 2014-01-01 02:00:00  2014      1    1        2     2  2014-01-01\n",
       "3 2014-01-01 03:00:00  2014      1    1        2     3  2014-01-01\n",
       "4 2014-01-01 04:00:00  2014      1    1        2     4  2014-01-01"
      ]
     },
     "execution_count": 33,
     "metadata": {},
     "output_type": "execute_result"
    }
   ],
   "source": [
    "table3[\"shortTime\"] = table3[\"Timestamp\"].apply(lambda row : row.strftime(\"%Y-%m-%d\"))\n",
    "table3.head()"
   ]
  },
  {
   "cell_type": "code",
   "execution_count": 34,
   "metadata": {},
   "outputs": [],
   "source": [
    "hh_holidays = pd.merge(table3, hh_holidays, how='left', on='shortTime')"
   ]
  },
  {
   "cell_type": "code",
   "execution_count": 35,
   "metadata": {},
   "outputs": [],
   "source": [
    "hh_holidays['holiday'] = hh_holidays['holiday'].fillna(0)\n",
    "del hh_holidays['Timestamp_y']\n",
    "hh_holidays = hh_holidays.rename(columns={\"Timestamp_x\":\"Timestamp\"})"
   ]
  },
  {
   "cell_type": "code",
   "execution_count": 36,
   "metadata": {},
   "outputs": [
    {
     "data": {
      "text/html": [
       "<div>\n",
       "<style scoped>\n",
       "    .dataframe tbody tr th:only-of-type {\n",
       "        vertical-align: middle;\n",
       "    }\n",
       "\n",
       "    .dataframe tbody tr th {\n",
       "        vertical-align: top;\n",
       "    }\n",
       "\n",
       "    .dataframe thead th {\n",
       "        text-align: right;\n",
       "    }\n",
       "</style>\n",
       "<table border=\"1\" class=\"dataframe\">\n",
       "  <thead>\n",
       "    <tr style=\"text-align: right;\">\n",
       "      <th></th>\n",
       "      <th>Timestamp</th>\n",
       "      <th>year</th>\n",
       "      <th>month</th>\n",
       "      <th>day</th>\n",
       "      <th>weekday</th>\n",
       "      <th>hour</th>\n",
       "      <th>shortTime</th>\n",
       "      <th>holiday</th>\n",
       "    </tr>\n",
       "  </thead>\n",
       "  <tbody>\n",
       "    <tr>\n",
       "      <th>0</th>\n",
       "      <td>2014-01-01 00:00:00</td>\n",
       "      <td>2014</td>\n",
       "      <td>1</td>\n",
       "      <td>1</td>\n",
       "      <td>2</td>\n",
       "      <td>0</td>\n",
       "      <td>2014-01-01</td>\n",
       "      <td>1</td>\n",
       "    </tr>\n",
       "    <tr>\n",
       "      <th>1</th>\n",
       "      <td>2014-01-01 01:00:00</td>\n",
       "      <td>2014</td>\n",
       "      <td>1</td>\n",
       "      <td>1</td>\n",
       "      <td>2</td>\n",
       "      <td>1</td>\n",
       "      <td>2014-01-01</td>\n",
       "      <td>1</td>\n",
       "    </tr>\n",
       "    <tr>\n",
       "      <th>2</th>\n",
       "      <td>2014-01-01 02:00:00</td>\n",
       "      <td>2014</td>\n",
       "      <td>1</td>\n",
       "      <td>1</td>\n",
       "      <td>2</td>\n",
       "      <td>2</td>\n",
       "      <td>2014-01-01</td>\n",
       "      <td>1</td>\n",
       "    </tr>\n",
       "    <tr>\n",
       "      <th>3</th>\n",
       "      <td>2014-01-01 03:00:00</td>\n",
       "      <td>2014</td>\n",
       "      <td>1</td>\n",
       "      <td>1</td>\n",
       "      <td>2</td>\n",
       "      <td>3</td>\n",
       "      <td>2014-01-01</td>\n",
       "      <td>1</td>\n",
       "    </tr>\n",
       "    <tr>\n",
       "      <th>4</th>\n",
       "      <td>2014-01-01 04:00:00</td>\n",
       "      <td>2014</td>\n",
       "      <td>1</td>\n",
       "      <td>1</td>\n",
       "      <td>2</td>\n",
       "      <td>4</td>\n",
       "      <td>2014-01-01</td>\n",
       "      <td>1</td>\n",
       "    </tr>\n",
       "  </tbody>\n",
       "</table>\n",
       "</div>"
      ],
      "text/plain": [
       "            Timestamp  year  month  day  weekday  hour   shortTime holiday\n",
       "0 2014-01-01 00:00:00  2014      1    1        2     0  2014-01-01       1\n",
       "1 2014-01-01 01:00:00  2014      1    1        2     1  2014-01-01       1\n",
       "2 2014-01-01 02:00:00  2014      1    1        2     2  2014-01-01       1\n",
       "3 2014-01-01 03:00:00  2014      1    1        2     3  2014-01-01       1\n",
       "4 2014-01-01 04:00:00  2014      1    1        2     4  2014-01-01       1"
      ]
     },
     "execution_count": 36,
     "metadata": {},
     "output_type": "execute_result"
    }
   ],
   "source": [
    "hh_holidays.head()"
   ]
  },
  {
   "cell_type": "markdown",
   "metadata": {},
   "source": [
    "---"
   ]
  },
  {
   "cell_type": "markdown",
   "metadata": {},
   "source": [
    "#### not_workday\n",
    "\n",
    "to generate the not_workday I add the public holidays and turn the weekdays with the value 6 & 7 to not workdays"
   ]
  },
  {
   "cell_type": "code",
   "execution_count": 37,
   "metadata": {},
   "outputs": [],
   "source": [
    "not_workingday = []\n",
    "\n",
    "for i,rows in hh_holidays.iterrows():\n",
    "    x = rows['weekday']\n",
    "    if x == 6:\n",
    "        not_workingday.append(1)\n",
    "    elif x == 7:\n",
    "        not_workingday.append(1)\n",
    "    elif rows['holiday']:\n",
    "        not_workingday.append(1)\n",
    "    else:\n",
    "        not_workingday.append(0)        "
   ]
  },
  {
   "cell_type": "code",
   "execution_count": 38,
   "metadata": {},
   "outputs": [],
   "source": [
    "hh_holidays['not_workday'] = not_workingday"
   ]
  },
  {
   "cell_type": "code",
   "execution_count": 39,
   "metadata": {},
   "outputs": [
    {
     "data": {
      "text/html": [
       "<div>\n",
       "<style scoped>\n",
       "    .dataframe tbody tr th:only-of-type {\n",
       "        vertical-align: middle;\n",
       "    }\n",
       "\n",
       "    .dataframe tbody tr th {\n",
       "        vertical-align: top;\n",
       "    }\n",
       "\n",
       "    .dataframe thead th {\n",
       "        text-align: right;\n",
       "    }\n",
       "</style>\n",
       "<table border=\"1\" class=\"dataframe\">\n",
       "  <thead>\n",
       "    <tr style=\"text-align: right;\">\n",
       "      <th></th>\n",
       "      <th>Timestamp</th>\n",
       "      <th>year</th>\n",
       "      <th>month</th>\n",
       "      <th>day</th>\n",
       "      <th>weekday</th>\n",
       "      <th>hour</th>\n",
       "      <th>shortTime</th>\n",
       "      <th>holiday</th>\n",
       "    </tr>\n",
       "    <tr>\n",
       "      <th>not_workday</th>\n",
       "      <th></th>\n",
       "      <th></th>\n",
       "      <th></th>\n",
       "      <th></th>\n",
       "      <th></th>\n",
       "      <th></th>\n",
       "      <th></th>\n",
       "      <th></th>\n",
       "    </tr>\n",
       "  </thead>\n",
       "  <tbody>\n",
       "    <tr>\n",
       "      <th>0</th>\n",
       "      <td>15424</td>\n",
       "      <td>15424</td>\n",
       "      <td>15424</td>\n",
       "      <td>15424</td>\n",
       "      <td>15424</td>\n",
       "      <td>15424</td>\n",
       "      <td>15424</td>\n",
       "      <td>15424</td>\n",
       "    </tr>\n",
       "    <tr>\n",
       "      <th>1</th>\n",
       "      <td>3051</td>\n",
       "      <td>3051</td>\n",
       "      <td>3051</td>\n",
       "      <td>3051</td>\n",
       "      <td>3051</td>\n",
       "      <td>3051</td>\n",
       "      <td>3051</td>\n",
       "      <td>3051</td>\n",
       "    </tr>\n",
       "  </tbody>\n",
       "</table>\n",
       "</div>"
      ],
      "text/plain": [
       "             Timestamp   year  month    day  weekday   hour  shortTime  \\\n",
       "not_workday                                                              \n",
       "0                15424  15424  15424  15424    15424  15424      15424   \n",
       "1                 3051   3051   3051   3051     3051   3051       3051   \n",
       "\n",
       "             holiday  \n",
       "not_workday           \n",
       "0              15424  \n",
       "1               3051  "
      ]
     },
     "execution_count": 39,
     "metadata": {},
     "output_type": "execute_result"
    }
   ],
   "source": [
    "hh_holidays.groupby(['not_workday']).count()"
   ]
  },
  {
   "cell_type": "code",
   "execution_count": 40,
   "metadata": {},
   "outputs": [],
   "source": [
    "hh_holidays['not_workday_shift'] = hh_holidays['not_workday'].shift(periods=-24, fill_value=0).astype('int64')"
   ]
  },
  {
   "cell_type": "code",
   "execution_count": 41,
   "metadata": {},
   "outputs": [
    {
     "data": {
      "text/plain": [
       "(18475, 10)"
      ]
     },
     "execution_count": 41,
     "metadata": {},
     "output_type": "execute_result"
    }
   ],
   "source": [
    "hh_holidays.shape"
   ]
  },
  {
   "cell_type": "code",
   "execution_count": 42,
   "metadata": {},
   "outputs": [
    {
     "data": {
      "text/html": [
       "<div>\n",
       "<style scoped>\n",
       "    .dataframe tbody tr th:only-of-type {\n",
       "        vertical-align: middle;\n",
       "    }\n",
       "\n",
       "    .dataframe tbody tr th {\n",
       "        vertical-align: top;\n",
       "    }\n",
       "\n",
       "    .dataframe thead th {\n",
       "        text-align: right;\n",
       "    }\n",
       "</style>\n",
       "<table border=\"1\" class=\"dataframe\">\n",
       "  <thead>\n",
       "    <tr style=\"text-align: right;\">\n",
       "      <th></th>\n",
       "      <th>Timestamp</th>\n",
       "      <th>year</th>\n",
       "      <th>month</th>\n",
       "      <th>day</th>\n",
       "      <th>weekday</th>\n",
       "      <th>hour</th>\n",
       "      <th>shortTime</th>\n",
       "      <th>holiday</th>\n",
       "      <th>not_workday</th>\n",
       "      <th>not_workday_shift</th>\n",
       "    </tr>\n",
       "  </thead>\n",
       "  <tbody>\n",
       "    <tr>\n",
       "      <th>0</th>\n",
       "      <td>2014-01-01 00:00:00</td>\n",
       "      <td>2014</td>\n",
       "      <td>1</td>\n",
       "      <td>1</td>\n",
       "      <td>2</td>\n",
       "      <td>0</td>\n",
       "      <td>2014-01-01</td>\n",
       "      <td>1</td>\n",
       "      <td>1</td>\n",
       "      <td>0</td>\n",
       "    </tr>\n",
       "    <tr>\n",
       "      <th>1</th>\n",
       "      <td>2014-01-01 01:00:00</td>\n",
       "      <td>2014</td>\n",
       "      <td>1</td>\n",
       "      <td>1</td>\n",
       "      <td>2</td>\n",
       "      <td>1</td>\n",
       "      <td>2014-01-01</td>\n",
       "      <td>1</td>\n",
       "      <td>1</td>\n",
       "      <td>0</td>\n",
       "    </tr>\n",
       "    <tr>\n",
       "      <th>2</th>\n",
       "      <td>2014-01-01 02:00:00</td>\n",
       "      <td>2014</td>\n",
       "      <td>1</td>\n",
       "      <td>1</td>\n",
       "      <td>2</td>\n",
       "      <td>2</td>\n",
       "      <td>2014-01-01</td>\n",
       "      <td>1</td>\n",
       "      <td>1</td>\n",
       "      <td>0</td>\n",
       "    </tr>\n",
       "    <tr>\n",
       "      <th>3</th>\n",
       "      <td>2014-01-01 03:00:00</td>\n",
       "      <td>2014</td>\n",
       "      <td>1</td>\n",
       "      <td>1</td>\n",
       "      <td>2</td>\n",
       "      <td>3</td>\n",
       "      <td>2014-01-01</td>\n",
       "      <td>1</td>\n",
       "      <td>1</td>\n",
       "      <td>0</td>\n",
       "    </tr>\n",
       "    <tr>\n",
       "      <th>4</th>\n",
       "      <td>2014-01-01 04:00:00</td>\n",
       "      <td>2014</td>\n",
       "      <td>1</td>\n",
       "      <td>1</td>\n",
       "      <td>2</td>\n",
       "      <td>4</td>\n",
       "      <td>2014-01-01</td>\n",
       "      <td>1</td>\n",
       "      <td>1</td>\n",
       "      <td>0</td>\n",
       "    </tr>\n",
       "  </tbody>\n",
       "</table>\n",
       "</div>"
      ],
      "text/plain": [
       "            Timestamp  year  month  day  weekday  hour   shortTime holiday  \\\n",
       "0 2014-01-01 00:00:00  2014      1    1        2     0  2014-01-01       1   \n",
       "1 2014-01-01 01:00:00  2014      1    1        2     1  2014-01-01       1   \n",
       "2 2014-01-01 02:00:00  2014      1    1        2     2  2014-01-01       1   \n",
       "3 2014-01-01 03:00:00  2014      1    1        2     3  2014-01-01       1   \n",
       "4 2014-01-01 04:00:00  2014      1    1        2     4  2014-01-01       1   \n",
       "\n",
       "   not_workday  not_workday_shift  \n",
       "0            1                  0  \n",
       "1            1                  0  \n",
       "2            1                  0  \n",
       "3            1                  0  \n",
       "4            1                  0  "
      ]
     },
     "execution_count": 42,
     "metadata": {},
     "output_type": "execute_result"
    }
   ],
   "source": [
    "hh_holidays.head()"
   ]
  },
  {
   "cell_type": "code",
   "execution_count": 43,
   "metadata": {},
   "outputs": [],
   "source": [
    "hh_holidays['holiday'] = hh_holidays['holiday'].astype('int64')\n",
    "hh_holidays['shortTime'] = pd.to_datetime(hh_holidays['shortTime'])"
   ]
  },
  {
   "cell_type": "code",
   "execution_count": 44,
   "metadata": {},
   "outputs": [
    {
     "name": "stdout",
     "output_type": "stream",
     "text": [
      "<class 'pandas.core.frame.DataFrame'>\n",
      "Int64Index: 18475 entries, 0 to 18474\n",
      "Data columns (total 10 columns):\n",
      "Timestamp            18475 non-null datetime64[ns]\n",
      "year                 18475 non-null int64\n",
      "month                18475 non-null int64\n",
      "day                  18475 non-null int64\n",
      "weekday              18475 non-null int64\n",
      "hour                 18475 non-null int64\n",
      "shortTime            18475 non-null datetime64[ns]\n",
      "holiday              18475 non-null int64\n",
      "not_workday          18475 non-null int64\n",
      "not_workday_shift    18475 non-null int64\n",
      "dtypes: datetime64[ns](2), int64(8)\n",
      "memory usage: 1.6 MB\n"
     ]
    }
   ],
   "source": [
    "hh_holidays.info()"
   ]
  },
  {
   "cell_type": "markdown",
   "metadata": {},
   "source": [
    "---"
   ]
  },
  {
   "cell_type": "markdown",
   "metadata": {},
   "source": [
    "#### school holidays"
   ]
  },
  {
   "cell_type": "code",
   "execution_count": 45,
   "metadata": {},
   "outputs": [],
   "source": [
    "from datetime import *"
   ]
  },
  {
   "cell_type": "code",
   "execution_count": 46,
   "metadata": {},
   "outputs": [],
   "source": [
    "import json\n",
    "hol_str = '''{\n",
    "    \"SH\": [\n",
    "      {\n",
    "        \"2014\": [\n",
    "          1,\n",
    "          31,\n",
    "          1,\n",
    "          31\n",
    "        ],\n",
    "        \"2015\": [\n",
    "          1,\n",
    "          30,\n",
    "          1,\n",
    "          30\n",
    "        ],\n",
    "        \"2016\": [\n",
    "          1,\n",
    "          29,\n",
    "          1,\n",
    "          29\n",
    "        ],\n",
    "        \"2017\": [\n",
    "          1,\n",
    "          30,\n",
    "          1,\n",
    "          30\n",
    "        ],\n",
    "        \"name\": \"Winterferien\"\n",
    "      },\n",
    "      {\n",
    "        \"2014\": [\n",
    "          3,\n",
    "          3,\n",
    "          3,\n",
    "          14\n",
    "        ],\n",
    "        \"2015\": [\n",
    "          3,\n",
    "          2,\n",
    "          3,\n",
    "          13\n",
    "        ],\n",
    "        \"2016\": [\n",
    "          3,\n",
    "          7,\n",
    "          3,\n",
    "          18\n",
    "        ],\n",
    "        \"2017\": [\n",
    "          3,\n",
    "          6,\n",
    "          3,\n",
    "          17\n",
    "        ],\n",
    "        \"name\": \"Osterferien\"\n",
    "      },\n",
    "      {\n",
    "        \"2014\": [\n",
    "          4,\n",
    "          28,\n",
    "          5,\n",
    "          2,\n",
    "          5,\n",
    "          30,\n",
    "          5,\n",
    "          30\n",
    "        ],\n",
    "        \"2015\": [\n",
    "          5,\n",
    "          11,\n",
    "          5,\n",
    "          15\n",
    "        ],\n",
    "        \"2016\": [\n",
    "          5,\n",
    "          6,\n",
    "          5,\n",
    "          6,\n",
    "          5,\n",
    "          17,\n",
    "          5,\n",
    "          20\n",
    "        ],\n",
    "        \"2017\": [\n",
    "          5,\n",
    "          22,\n",
    "          5,\n",
    "          26\n",
    "        ],\n",
    "        \"name\": \"Pfingstferien\"\n",
    "      },\n",
    "      {\n",
    "        \"2014\": [\n",
    "          7,\n",
    "          10,\n",
    "          8,\n",
    "          20\n",
    "        ],\n",
    "        \"2015\": [\n",
    "          7,\n",
    "          16,\n",
    "          8,\n",
    "          26\n",
    "        ],\n",
    "        \"2016\": [\n",
    "          7,\n",
    "          21,\n",
    "          8,\n",
    "          31\n",
    "        ],\n",
    "        \"2017\": [\n",
    "          7,\n",
    "          20,\n",
    "          8,\n",
    "          30\n",
    "        ],\n",
    "        \"name\": \"Sommerferien\"\n",
    "      },\n",
    "      {\n",
    "        \"2014\": [\n",
    "          10,\n",
    "          13,\n",
    "          10,\n",
    "          24\n",
    "        ],\n",
    "        \"2015\": [\n",
    "          10,\n",
    "          19,\n",
    "          10,\n",
    "          30\n",
    "        ],\n",
    "        \"2016\": [\n",
    "          10,\n",
    "          17,\n",
    "          10,\n",
    "          28\n",
    "        ],\n",
    "        \"2017\": [\n",
    "          10,\n",
    "          2,\n",
    "          10,\n",
    "          2,\n",
    "          10,\n",
    "          16,\n",
    "          10,\n",
    "          27\n",
    "        ],\n",
    "        \"name\": \"Herbstferien\"\n",
    "      },\n",
    "      {\n",
    "        \"2014\": [\n",
    "          1,\n",
    "          1,\n",
    "          1,\n",
    "          3,\n",
    "          12,\n",
    "          22,\n",
    "          1,\n",
    "          6\n",
    "        ],\n",
    "        \"2015\": [\n",
    "          12,\n",
    "          21,\n",
    "          1,\n",
    "          1\n",
    "        ],\n",
    "        \"2016\": [\n",
    "          12,\n",
    "          27,\n",
    "          1,\n",
    "          6\n",
    "        ],\n",
    "        \"2017\": [\n",
    "          12,\n",
    "          22,\n",
    "          12,\n",
    "          31\n",
    "        ],\n",
    "        \"name\": \"Weihnachtsferien\"\n",
    "      }\n",
    "    ]\n",
    "  }'''\n",
    "hol_json = json.loads(hol_str)\n",
    "hol_array = []\n",
    "for holiday in hol_json[\"SH\"]:\n",
    "    hol_array.append(holiday[\"2014\"])\n",
    "for holiday in hol_json[\"SH\"]:\n",
    "    hol_array.append(holiday[\"2015\"])\n",
    "for holiday in hol_json[\"SH\"]:\n",
    "    hol_array.append(holiday[\"2016\"])\n",
    "for holiday in hol_json[\"SH\"]:\n",
    "    hol_array.append(holiday[\"2017\"])\n",
    "holiday_day_list = []\n",
    "current_day = date(2014,1,1)\n",
    "current_holiday = hol_array.pop(0)\n",
    "curr_h_start = current_holiday[:2]\n",
    "curr_h_end = current_holiday[2:]\n",
    "while current_day.year <= 2017:\n",
    "        if curr_h_start[0] <= current_day.month and current_day.month <= curr_h_end[0]:\n",
    "            if curr_h_start[1] <= current_day.day and current_day.day <= curr_h_end[1]:\n",
    "                holiday_day_list.append(current_day)\n",
    "        if curr_h_end[0] == current_day.month and curr_h_end[1] == current_day.day:\n",
    "            if len(hol_array) == 0:\n",
    "                break\n",
    "            current_holiday = hol_array.pop(0)\n",
    "            curr_h_start = current_holiday[:2]\n",
    "            curr_h_end = current_holiday[2:]\n",
    "        current_day += timedelta(days=1)\n",
    "schulferien = pd.DataFrame(holiday_day_list, columns=[\"shortTime\"])\n",
    "schulferien['shortTime'] = pd.to_datetime(schulferien['shortTime'])\n",
    "schulferien[\"school_holiday\"] = 1"
   ]
  },
  {
   "cell_type": "code",
   "execution_count": 47,
   "metadata": {},
   "outputs": [
    {
     "data": {
      "text/html": [
       "<div>\n",
       "<style scoped>\n",
       "    .dataframe tbody tr th:only-of-type {\n",
       "        vertical-align: middle;\n",
       "    }\n",
       "\n",
       "    .dataframe tbody tr th {\n",
       "        vertical-align: top;\n",
       "    }\n",
       "\n",
       "    .dataframe thead th {\n",
       "        text-align: right;\n",
       "    }\n",
       "</style>\n",
       "<table border=\"1\" class=\"dataframe\">\n",
       "  <thead>\n",
       "    <tr style=\"text-align: right;\">\n",
       "      <th></th>\n",
       "      <th>shortTime</th>\n",
       "      <th>school_holiday</th>\n",
       "    </tr>\n",
       "  </thead>\n",
       "  <tbody>\n",
       "    <tr>\n",
       "      <th>0</th>\n",
       "      <td>2014-01-31</td>\n",
       "      <td>1</td>\n",
       "    </tr>\n",
       "    <tr>\n",
       "      <th>1</th>\n",
       "      <td>2014-03-03</td>\n",
       "      <td>1</td>\n",
       "    </tr>\n",
       "    <tr>\n",
       "      <th>2</th>\n",
       "      <td>2014-03-04</td>\n",
       "      <td>1</td>\n",
       "    </tr>\n",
       "    <tr>\n",
       "      <th>3</th>\n",
       "      <td>2014-03-05</td>\n",
       "      <td>1</td>\n",
       "    </tr>\n",
       "    <tr>\n",
       "      <th>4</th>\n",
       "      <td>2014-03-06</td>\n",
       "      <td>1</td>\n",
       "    </tr>\n",
       "  </tbody>\n",
       "</table>\n",
       "</div>"
      ],
      "text/plain": [
       "   shortTime  school_holiday\n",
       "0 2014-01-31               1\n",
       "1 2014-03-03               1\n",
       "2 2014-03-04               1\n",
       "3 2014-03-05               1\n",
       "4 2014-03-06               1"
      ]
     },
     "execution_count": 47,
     "metadata": {},
     "output_type": "execute_result"
    }
   ],
   "source": [
    "schulferien.head()"
   ]
  },
  {
   "cell_type": "code",
   "execution_count": 48,
   "metadata": {},
   "outputs": [],
   "source": [
    "table3 = pd.merge(hh_holidays, schulferien, how='left', on='shortTime').fillna(0)\n",
    "del table3['shortTime']"
   ]
  },
  {
   "cell_type": "code",
   "execution_count": 49,
   "metadata": {},
   "outputs": [],
   "source": [
    "table3['school_holiday'] = table3['school_holiday'].astype('int64')"
   ]
  },
  {
   "cell_type": "code",
   "execution_count": 50,
   "metadata": {},
   "outputs": [
    {
     "data": {
      "text/html": [
       "<div>\n",
       "<style scoped>\n",
       "    .dataframe tbody tr th:only-of-type {\n",
       "        vertical-align: middle;\n",
       "    }\n",
       "\n",
       "    .dataframe tbody tr th {\n",
       "        vertical-align: top;\n",
       "    }\n",
       "\n",
       "    .dataframe thead th {\n",
       "        text-align: right;\n",
       "    }\n",
       "</style>\n",
       "<table border=\"1\" class=\"dataframe\">\n",
       "  <thead>\n",
       "    <tr style=\"text-align: right;\">\n",
       "      <th></th>\n",
       "      <th>Timestamp</th>\n",
       "      <th>year</th>\n",
       "      <th>month</th>\n",
       "      <th>day</th>\n",
       "      <th>weekday</th>\n",
       "      <th>hour</th>\n",
       "      <th>holiday</th>\n",
       "      <th>not_workday</th>\n",
       "      <th>not_workday_shift</th>\n",
       "      <th>school_holiday</th>\n",
       "    </tr>\n",
       "  </thead>\n",
       "  <tbody>\n",
       "    <tr>\n",
       "      <th>0</th>\n",
       "      <td>2014-01-01 00:00:00</td>\n",
       "      <td>2014</td>\n",
       "      <td>1</td>\n",
       "      <td>1</td>\n",
       "      <td>2</td>\n",
       "      <td>0</td>\n",
       "      <td>1</td>\n",
       "      <td>1</td>\n",
       "      <td>0</td>\n",
       "      <td>0</td>\n",
       "    </tr>\n",
       "    <tr>\n",
       "      <th>1</th>\n",
       "      <td>2014-01-01 01:00:00</td>\n",
       "      <td>2014</td>\n",
       "      <td>1</td>\n",
       "      <td>1</td>\n",
       "      <td>2</td>\n",
       "      <td>1</td>\n",
       "      <td>1</td>\n",
       "      <td>1</td>\n",
       "      <td>0</td>\n",
       "      <td>0</td>\n",
       "    </tr>\n",
       "    <tr>\n",
       "      <th>2</th>\n",
       "      <td>2014-01-01 02:00:00</td>\n",
       "      <td>2014</td>\n",
       "      <td>1</td>\n",
       "      <td>1</td>\n",
       "      <td>2</td>\n",
       "      <td>2</td>\n",
       "      <td>1</td>\n",
       "      <td>1</td>\n",
       "      <td>0</td>\n",
       "      <td>0</td>\n",
       "    </tr>\n",
       "    <tr>\n",
       "      <th>3</th>\n",
       "      <td>2014-01-01 03:00:00</td>\n",
       "      <td>2014</td>\n",
       "      <td>1</td>\n",
       "      <td>1</td>\n",
       "      <td>2</td>\n",
       "      <td>3</td>\n",
       "      <td>1</td>\n",
       "      <td>1</td>\n",
       "      <td>0</td>\n",
       "      <td>0</td>\n",
       "    </tr>\n",
       "    <tr>\n",
       "      <th>4</th>\n",
       "      <td>2014-01-01 04:00:00</td>\n",
       "      <td>2014</td>\n",
       "      <td>1</td>\n",
       "      <td>1</td>\n",
       "      <td>2</td>\n",
       "      <td>4</td>\n",
       "      <td>1</td>\n",
       "      <td>1</td>\n",
       "      <td>0</td>\n",
       "      <td>0</td>\n",
       "    </tr>\n",
       "  </tbody>\n",
       "</table>\n",
       "</div>"
      ],
      "text/plain": [
       "            Timestamp  year  month  day  weekday  hour  holiday  not_workday  \\\n",
       "0 2014-01-01 00:00:00  2014      1    1        2     0        1            1   \n",
       "1 2014-01-01 01:00:00  2014      1    1        2     1        1            1   \n",
       "2 2014-01-01 02:00:00  2014      1    1        2     2        1            1   \n",
       "3 2014-01-01 03:00:00  2014      1    1        2     3        1            1   \n",
       "4 2014-01-01 04:00:00  2014      1    1        2     4        1            1   \n",
       "\n",
       "   not_workday_shift  school_holiday  \n",
       "0                  0               0  \n",
       "1                  0               0  \n",
       "2                  0               0  \n",
       "3                  0               0  \n",
       "4                  0               0  "
      ]
     },
     "execution_count": 50,
     "metadata": {},
     "output_type": "execute_result"
    }
   ],
   "source": [
    "table3.head()"
   ]
  },
  {
   "cell_type": "code",
   "execution_count": 51,
   "metadata": {},
   "outputs": [
    {
     "name": "stdout",
     "output_type": "stream",
     "text": [
      "<class 'pandas.core.frame.DataFrame'>\n",
      "Int64Index: 18475 entries, 0 to 18474\n",
      "Data columns (total 10 columns):\n",
      "Timestamp            18475 non-null datetime64[ns]\n",
      "year                 18475 non-null int64\n",
      "month                18475 non-null int64\n",
      "day                  18475 non-null int64\n",
      "weekday              18475 non-null int64\n",
      "hour                 18475 non-null int64\n",
      "holiday              18475 non-null int64\n",
      "not_workday          18475 non-null int64\n",
      "not_workday_shift    18475 non-null int64\n",
      "school_holiday       18475 non-null int64\n",
      "dtypes: datetime64[ns](1), int64(9)\n",
      "memory usage: 1.6 MB\n"
     ]
    }
   ],
   "source": [
    "table3.info()"
   ]
  },
  {
   "cell_type": "markdown",
   "metadata": {},
   "source": [
    "---"
   ]
  },
  {
   "cell_type": "markdown",
   "metadata": {},
   "source": [
    "## Table Concat: Merge table 1, 2 & 3\n",
    "\n",
    "**Station_Start | Timestamp | Count | Temperature | Windspeed | Rain \n",
    "| year | month | day | weekday | hour | holiday | not_workday | not_workday_shift | school_holiday**\n",
    "\n",
    "1. a) Test first for one station pd.merge(df1, df2, how='right', on='Timestamp')\n",
    "1. b) Train and test model on one station (ca 19.000 datapoints)\n",
    "2. For-loop with all stations if 1. works\n",
    "3. Concat all stations"
   ]
  },
  {
   "cell_type": "code",
   "execution_count": 152,
   "metadata": {},
   "outputs": [],
   "source": [
    "main_stations = table1[table1['START_RENTAL_ZONE_HAL_ID'].isin([131647, 131872, 131873, 131880, 138384])]"
   ]
  },
  {
   "cell_type": "code",
   "execution_count": 154,
   "metadata": {},
   "outputs": [
    {
     "name": "stdout",
     "output_type": "stream",
     "text": [
      "<class 'pandas.core.frame.DataFrame'>\n",
      "Int64Index: 80677 entries, 5 to 2049181\n",
      "Data columns (total 3 columns):\n",
      "START_RENTAL_ZONE_HAL_ID    80677 non-null float64\n",
      "Timestamp                   80677 non-null datetime64[ns]\n",
      "Count                       80677 non-null int64\n",
      "dtypes: datetime64[ns](1), float64(1), int64(1)\n",
      "memory usage: 2.5 MB\n"
     ]
    }
   ],
   "source": [
    "main_stations.info()"
   ]
  },
  {
   "cell_type": "code",
   "execution_count": 161,
   "metadata": {},
   "outputs": [],
   "source": [
    "main_stations = main_stations.groupby('Timestamp')['Count'].sum()"
   ]
  },
  {
   "cell_type": "code",
   "execution_count": 163,
   "metadata": {},
   "outputs": [],
   "source": [
    "test1 = pd.merge(table3, main_stations, how='left', on='Timestamp')\n",
    "test1.fillna(0, inplace=True)\n",
    "test1['Count'] = test1['Count'].astype('int64')"
   ]
  },
  {
   "cell_type": "code",
   "execution_count": 164,
   "metadata": {},
   "outputs": [
    {
     "name": "stdout",
     "output_type": "stream",
     "text": [
      "<class 'pandas.core.frame.DataFrame'>\n",
      "Int64Index: 18475 entries, 0 to 18474\n",
      "Data columns (total 11 columns):\n",
      "Timestamp            18475 non-null datetime64[ns]\n",
      "year                 18475 non-null int64\n",
      "month                18475 non-null int64\n",
      "day                  18475 non-null int64\n",
      "weekday              18475 non-null int64\n",
      "hour                 18475 non-null int64\n",
      "holiday              18475 non-null int64\n",
      "not_workday          18475 non-null int64\n",
      "not_workday_shift    18475 non-null int64\n",
      "school_holiday       18475 non-null int64\n",
      "Count                18475 non-null int64\n",
      "dtypes: datetime64[ns](1), int64(10)\n",
      "memory usage: 1.7 MB\n"
     ]
    }
   ],
   "source": [
    "test1.info()"
   ]
  },
  {
   "cell_type": "code",
   "execution_count": 165,
   "metadata": {},
   "outputs": [
    {
     "data": {
      "text/html": [
       "<div>\n",
       "<style scoped>\n",
       "    .dataframe tbody tr th:only-of-type {\n",
       "        vertical-align: middle;\n",
       "    }\n",
       "\n",
       "    .dataframe tbody tr th {\n",
       "        vertical-align: top;\n",
       "    }\n",
       "\n",
       "    .dataframe thead th {\n",
       "        text-align: right;\n",
       "    }\n",
       "</style>\n",
       "<table border=\"1\" class=\"dataframe\">\n",
       "  <thead>\n",
       "    <tr style=\"text-align: right;\">\n",
       "      <th></th>\n",
       "      <th>Timestamp</th>\n",
       "      <th>year</th>\n",
       "      <th>month</th>\n",
       "      <th>day</th>\n",
       "      <th>weekday</th>\n",
       "      <th>hour</th>\n",
       "      <th>holiday</th>\n",
       "      <th>not_workday</th>\n",
       "      <th>not_workday_shift</th>\n",
       "      <th>school_holiday</th>\n",
       "      <th>Count</th>\n",
       "    </tr>\n",
       "  </thead>\n",
       "  <tbody>\n",
       "    <tr>\n",
       "      <th>0</th>\n",
       "      <td>2014-01-01 00:00:00</td>\n",
       "      <td>2014</td>\n",
       "      <td>1</td>\n",
       "      <td>1</td>\n",
       "      <td>2</td>\n",
       "      <td>0</td>\n",
       "      <td>1</td>\n",
       "      <td>1</td>\n",
       "      <td>0</td>\n",
       "      <td>0</td>\n",
       "      <td>1</td>\n",
       "    </tr>\n",
       "    <tr>\n",
       "      <th>1</th>\n",
       "      <td>2014-01-01 01:00:00</td>\n",
       "      <td>2014</td>\n",
       "      <td>1</td>\n",
       "      <td>1</td>\n",
       "      <td>2</td>\n",
       "      <td>1</td>\n",
       "      <td>1</td>\n",
       "      <td>1</td>\n",
       "      <td>0</td>\n",
       "      <td>0</td>\n",
       "      <td>0</td>\n",
       "    </tr>\n",
       "    <tr>\n",
       "      <th>2</th>\n",
       "      <td>2014-01-01 02:00:00</td>\n",
       "      <td>2014</td>\n",
       "      <td>1</td>\n",
       "      <td>1</td>\n",
       "      <td>2</td>\n",
       "      <td>2</td>\n",
       "      <td>1</td>\n",
       "      <td>1</td>\n",
       "      <td>0</td>\n",
       "      <td>0</td>\n",
       "      <td>6</td>\n",
       "    </tr>\n",
       "    <tr>\n",
       "      <th>3</th>\n",
       "      <td>2014-01-01 03:00:00</td>\n",
       "      <td>2014</td>\n",
       "      <td>1</td>\n",
       "      <td>1</td>\n",
       "      <td>2</td>\n",
       "      <td>3</td>\n",
       "      <td>1</td>\n",
       "      <td>1</td>\n",
       "      <td>0</td>\n",
       "      <td>0</td>\n",
       "      <td>10</td>\n",
       "    </tr>\n",
       "    <tr>\n",
       "      <th>4</th>\n",
       "      <td>2014-01-01 04:00:00</td>\n",
       "      <td>2014</td>\n",
       "      <td>1</td>\n",
       "      <td>1</td>\n",
       "      <td>2</td>\n",
       "      <td>4</td>\n",
       "      <td>1</td>\n",
       "      <td>1</td>\n",
       "      <td>0</td>\n",
       "      <td>0</td>\n",
       "      <td>5</td>\n",
       "    </tr>\n",
       "  </tbody>\n",
       "</table>\n",
       "</div>"
      ],
      "text/plain": [
       "            Timestamp  year  month  day  weekday  hour  holiday  not_workday  \\\n",
       "0 2014-01-01 00:00:00  2014      1    1        2     0        1            1   \n",
       "1 2014-01-01 01:00:00  2014      1    1        2     1        1            1   \n",
       "2 2014-01-01 02:00:00  2014      1    1        2     2        1            1   \n",
       "3 2014-01-01 03:00:00  2014      1    1        2     3        1            1   \n",
       "4 2014-01-01 04:00:00  2014      1    1        2     4        1            1   \n",
       "\n",
       "   not_workday_shift  school_holiday  Count  \n",
       "0                  0               0      1  \n",
       "1                  0               0      0  \n",
       "2                  0               0      6  \n",
       "3                  0               0     10  \n",
       "4                  0               0      5  "
      ]
     },
     "execution_count": 165,
     "metadata": {},
     "output_type": "execute_result"
    }
   ],
   "source": [
    "test1.head()"
   ]
  },
  {
   "cell_type": "code",
   "execution_count": 166,
   "metadata": {},
   "outputs": [],
   "source": [
    "test2 = pd.merge(test1, table2, how='left', on='Timestamp')"
   ]
  },
  {
   "cell_type": "code",
   "execution_count": 167,
   "metadata": {},
   "outputs": [
    {
     "data": {
      "text/html": [
       "<div>\n",
       "<style scoped>\n",
       "    .dataframe tbody tr th:only-of-type {\n",
       "        vertical-align: middle;\n",
       "    }\n",
       "\n",
       "    .dataframe tbody tr th {\n",
       "        vertical-align: top;\n",
       "    }\n",
       "\n",
       "    .dataframe thead th {\n",
       "        text-align: right;\n",
       "    }\n",
       "</style>\n",
       "<table border=\"1\" class=\"dataframe\">\n",
       "  <thead>\n",
       "    <tr style=\"text-align: right;\">\n",
       "      <th></th>\n",
       "      <th>Timestamp</th>\n",
       "      <th>year</th>\n",
       "      <th>month</th>\n",
       "      <th>day</th>\n",
       "      <th>weekday</th>\n",
       "      <th>hour</th>\n",
       "      <th>holiday</th>\n",
       "      <th>not_workday</th>\n",
       "      <th>not_workday_shift</th>\n",
       "      <th>school_holiday</th>\n",
       "      <th>Count</th>\n",
       "      <th>Temp</th>\n",
       "      <th>Windspeed</th>\n",
       "      <th>Rain</th>\n",
       "    </tr>\n",
       "  </thead>\n",
       "  <tbody>\n",
       "    <tr>\n",
       "      <th>0</th>\n",
       "      <td>2014-01-01 00:00:00</td>\n",
       "      <td>2014</td>\n",
       "      <td>1</td>\n",
       "      <td>1</td>\n",
       "      <td>2</td>\n",
       "      <td>0</td>\n",
       "      <td>1</td>\n",
       "      <td>1</td>\n",
       "      <td>0</td>\n",
       "      <td>0</td>\n",
       "      <td>1</td>\n",
       "      <td>2.4</td>\n",
       "      <td>4</td>\n",
       "      <td>0</td>\n",
       "    </tr>\n",
       "    <tr>\n",
       "      <th>1</th>\n",
       "      <td>2014-01-01 01:00:00</td>\n",
       "      <td>2014</td>\n",
       "      <td>1</td>\n",
       "      <td>1</td>\n",
       "      <td>2</td>\n",
       "      <td>1</td>\n",
       "      <td>1</td>\n",
       "      <td>1</td>\n",
       "      <td>0</td>\n",
       "      <td>0</td>\n",
       "      <td>0</td>\n",
       "      <td>2.1</td>\n",
       "      <td>6</td>\n",
       "      <td>0</td>\n",
       "    </tr>\n",
       "    <tr>\n",
       "      <th>2</th>\n",
       "      <td>2014-01-01 02:00:00</td>\n",
       "      <td>2014</td>\n",
       "      <td>1</td>\n",
       "      <td>1</td>\n",
       "      <td>2</td>\n",
       "      <td>2</td>\n",
       "      <td>1</td>\n",
       "      <td>1</td>\n",
       "      <td>0</td>\n",
       "      <td>0</td>\n",
       "      <td>6</td>\n",
       "      <td>2.0</td>\n",
       "      <td>5</td>\n",
       "      <td>0</td>\n",
       "    </tr>\n",
       "    <tr>\n",
       "      <th>3</th>\n",
       "      <td>2014-01-01 03:00:00</td>\n",
       "      <td>2014</td>\n",
       "      <td>1</td>\n",
       "      <td>1</td>\n",
       "      <td>2</td>\n",
       "      <td>3</td>\n",
       "      <td>1</td>\n",
       "      <td>1</td>\n",
       "      <td>0</td>\n",
       "      <td>0</td>\n",
       "      <td>10</td>\n",
       "      <td>2.1</td>\n",
       "      <td>5</td>\n",
       "      <td>0</td>\n",
       "    </tr>\n",
       "    <tr>\n",
       "      <th>4</th>\n",
       "      <td>2014-01-01 04:00:00</td>\n",
       "      <td>2014</td>\n",
       "      <td>1</td>\n",
       "      <td>1</td>\n",
       "      <td>2</td>\n",
       "      <td>4</td>\n",
       "      <td>1</td>\n",
       "      <td>1</td>\n",
       "      <td>0</td>\n",
       "      <td>0</td>\n",
       "      <td>5</td>\n",
       "      <td>1.6</td>\n",
       "      <td>5</td>\n",
       "      <td>0</td>\n",
       "    </tr>\n",
       "  </tbody>\n",
       "</table>\n",
       "</div>"
      ],
      "text/plain": [
       "            Timestamp  year  month  day  weekday  hour  holiday  not_workday  \\\n",
       "0 2014-01-01 00:00:00  2014      1    1        2     0        1            1   \n",
       "1 2014-01-01 01:00:00  2014      1    1        2     1        1            1   \n",
       "2 2014-01-01 02:00:00  2014      1    1        2     2        1            1   \n",
       "3 2014-01-01 03:00:00  2014      1    1        2     3        1            1   \n",
       "4 2014-01-01 04:00:00  2014      1    1        2     4        1            1   \n",
       "\n",
       "   not_workday_shift  school_holiday  Count  Temp  Windspeed  Rain  \n",
       "0                  0               0      1   2.4          4     0  \n",
       "1                  0               0      0   2.1          6     0  \n",
       "2                  0               0      6   2.0          5     0  \n",
       "3                  0               0     10   2.1          5     0  \n",
       "4                  0               0      5   1.6          5     0  "
      ]
     },
     "execution_count": 167,
     "metadata": {},
     "output_type": "execute_result"
    }
   ],
   "source": [
    "test2.head()"
   ]
  },
  {
   "cell_type": "code",
   "execution_count": 168,
   "metadata": {},
   "outputs": [
    {
     "data": {
      "text/plain": [
       "Index(['Timestamp', 'year', 'month', 'day', 'weekday', 'hour', 'holiday',\n",
       "       'not_workday', 'not_workday_shift', 'school_holiday', 'Count', 'Temp',\n",
       "       'Windspeed', 'Rain'],\n",
       "      dtype='object')"
      ]
     },
     "execution_count": 168,
     "metadata": {},
     "output_type": "execute_result"
    }
   ],
   "source": [
    "test2.columns"
   ]
  },
  {
   "cell_type": "code",
   "execution_count": 169,
   "metadata": {},
   "outputs": [
    {
     "data": {
      "text/html": [
       "<div>\n",
       "<style scoped>\n",
       "    .dataframe tbody tr th:only-of-type {\n",
       "        vertical-align: middle;\n",
       "    }\n",
       "\n",
       "    .dataframe tbody tr th {\n",
       "        vertical-align: top;\n",
       "    }\n",
       "\n",
       "    .dataframe thead th {\n",
       "        text-align: right;\n",
       "    }\n",
       "</style>\n",
       "<table border=\"1\" class=\"dataframe\">\n",
       "  <thead>\n",
       "    <tr style=\"text-align: right;\">\n",
       "      <th></th>\n",
       "      <th>Timestamp</th>\n",
       "      <th>year</th>\n",
       "      <th>month</th>\n",
       "      <th>day</th>\n",
       "      <th>weekday</th>\n",
       "      <th>hour</th>\n",
       "      <th>holiday</th>\n",
       "      <th>not_workday</th>\n",
       "      <th>not_workday_shift</th>\n",
       "      <th>school_holiday</th>\n",
       "      <th>Count</th>\n",
       "      <th>Temp</th>\n",
       "      <th>Windspeed</th>\n",
       "      <th>Rain</th>\n",
       "    </tr>\n",
       "  </thead>\n",
       "  <tbody>\n",
       "  </tbody>\n",
       "</table>\n",
       "</div>"
      ],
      "text/plain": [
       "Empty DataFrame\n",
       "Columns: [Timestamp, year, month, day, weekday, hour, holiday, not_workday, not_workday_shift, school_holiday, Count, Temp, Windspeed, Rain]\n",
       "Index: []"
      ]
     },
     "execution_count": 169,
     "metadata": {},
     "output_type": "execute_result"
    }
   ],
   "source": [
    "test2[test2.isnull().any(axis=1)]"
   ]
  },
  {
   "cell_type": "code",
   "execution_count": 170,
   "metadata": {},
   "outputs": [],
   "source": [
    "test2 = test2[test2.year != 2016]"
   ]
  },
  {
   "cell_type": "code",
   "execution_count": 171,
   "metadata": {},
   "outputs": [
    {
     "data": {
      "text/html": [
       "<div>\n",
       "<style scoped>\n",
       "    .dataframe tbody tr th:only-of-type {\n",
       "        vertical-align: middle;\n",
       "    }\n",
       "\n",
       "    .dataframe tbody tr th {\n",
       "        vertical-align: top;\n",
       "    }\n",
       "\n",
       "    .dataframe thead th {\n",
       "        text-align: right;\n",
       "    }\n",
       "</style>\n",
       "<table border=\"1\" class=\"dataframe\">\n",
       "  <thead>\n",
       "    <tr style=\"text-align: right;\">\n",
       "      <th></th>\n",
       "      <th>year</th>\n",
       "      <th>month</th>\n",
       "      <th>day</th>\n",
       "      <th>weekday</th>\n",
       "      <th>hour</th>\n",
       "      <th>holiday</th>\n",
       "      <th>not_workday</th>\n",
       "      <th>not_workday_shift</th>\n",
       "      <th>school_holiday</th>\n",
       "      <th>Count</th>\n",
       "      <th>Temp</th>\n",
       "      <th>Windspeed</th>\n",
       "      <th>Rain</th>\n",
       "    </tr>\n",
       "  </thead>\n",
       "  <tbody>\n",
       "    <tr>\n",
       "      <th>count</th>\n",
       "      <td>16675.000000</td>\n",
       "      <td>16675.000000</td>\n",
       "      <td>16675.000000</td>\n",
       "      <td>16675.000000</td>\n",
       "      <td>16675.000000</td>\n",
       "      <td>16675.000000</td>\n",
       "      <td>16675.000000</td>\n",
       "      <td>16675.000000</td>\n",
       "      <td>16675.000000</td>\n",
       "      <td>16675.000000</td>\n",
       "      <td>16675.000000</td>\n",
       "      <td>16675.000000</td>\n",
       "      <td>16675.000000</td>\n",
       "    </tr>\n",
       "    <tr>\n",
       "      <th>mean</th>\n",
       "      <td>2014.474543</td>\n",
       "      <td>6.444678</td>\n",
       "      <td>15.656732</td>\n",
       "      <td>3.000000</td>\n",
       "      <td>11.390105</td>\n",
       "      <td>0.025427</td>\n",
       "      <td>0.167796</td>\n",
       "      <td>0.167436</td>\n",
       "      <td>0.136672</td>\n",
       "      <td>13.142849</td>\n",
       "      <td>10.363490</td>\n",
       "      <td>4.314423</td>\n",
       "      <td>0.071124</td>\n",
       "    </tr>\n",
       "    <tr>\n",
       "      <th>std</th>\n",
       "      <td>0.499366</td>\n",
       "      <td>3.455449</td>\n",
       "      <td>8.851585</td>\n",
       "      <td>1.996729</td>\n",
       "      <td>6.911239</td>\n",
       "      <td>0.157424</td>\n",
       "      <td>0.373696</td>\n",
       "      <td>0.373376</td>\n",
       "      <td>0.343511</td>\n",
       "      <td>13.422374</td>\n",
       "      <td>6.713581</td>\n",
       "      <td>2.316641</td>\n",
       "      <td>0.352993</td>\n",
       "    </tr>\n",
       "    <tr>\n",
       "      <th>min</th>\n",
       "      <td>2014.000000</td>\n",
       "      <td>1.000000</td>\n",
       "      <td>1.000000</td>\n",
       "      <td>0.000000</td>\n",
       "      <td>0.000000</td>\n",
       "      <td>0.000000</td>\n",
       "      <td>0.000000</td>\n",
       "      <td>0.000000</td>\n",
       "      <td>0.000000</td>\n",
       "      <td>0.000000</td>\n",
       "      <td>-12.400000</td>\n",
       "      <td>0.000000</td>\n",
       "      <td>0.000000</td>\n",
       "    </tr>\n",
       "    <tr>\n",
       "      <th>25%</th>\n",
       "      <td>2014.000000</td>\n",
       "      <td>3.000000</td>\n",
       "      <td>8.000000</td>\n",
       "      <td>1.000000</td>\n",
       "      <td>6.000000</td>\n",
       "      <td>0.000000</td>\n",
       "      <td>0.000000</td>\n",
       "      <td>0.000000</td>\n",
       "      <td>0.000000</td>\n",
       "      <td>3.000000</td>\n",
       "      <td>5.400000</td>\n",
       "      <td>3.000000</td>\n",
       "      <td>0.000000</td>\n",
       "    </tr>\n",
       "    <tr>\n",
       "      <th>50%</th>\n",
       "      <td>2014.000000</td>\n",
       "      <td>6.000000</td>\n",
       "      <td>16.000000</td>\n",
       "      <td>3.000000</td>\n",
       "      <td>11.000000</td>\n",
       "      <td>0.000000</td>\n",
       "      <td>0.000000</td>\n",
       "      <td>0.000000</td>\n",
       "      <td>0.000000</td>\n",
       "      <td>9.000000</td>\n",
       "      <td>10.200000</td>\n",
       "      <td>4.000000</td>\n",
       "      <td>0.000000</td>\n",
       "    </tr>\n",
       "    <tr>\n",
       "      <th>75%</th>\n",
       "      <td>2015.000000</td>\n",
       "      <td>9.000000</td>\n",
       "      <td>23.000000</td>\n",
       "      <td>5.000000</td>\n",
       "      <td>17.000000</td>\n",
       "      <td>0.000000</td>\n",
       "      <td>0.000000</td>\n",
       "      <td>0.000000</td>\n",
       "      <td>0.000000</td>\n",
       "      <td>19.000000</td>\n",
       "      <td>15.000000</td>\n",
       "      <td>6.000000</td>\n",
       "      <td>0.000000</td>\n",
       "    </tr>\n",
       "    <tr>\n",
       "      <th>max</th>\n",
       "      <td>2015.000000</td>\n",
       "      <td>12.000000</td>\n",
       "      <td>31.000000</td>\n",
       "      <td>6.000000</td>\n",
       "      <td>23.000000</td>\n",
       "      <td>1.000000</td>\n",
       "      <td>1.000000</td>\n",
       "      <td>1.000000</td>\n",
       "      <td>1.000000</td>\n",
       "      <td>103.000000</td>\n",
       "      <td>35.900000</td>\n",
       "      <td>17.000000</td>\n",
       "      <td>4.000000</td>\n",
       "    </tr>\n",
       "  </tbody>\n",
       "</table>\n",
       "</div>"
      ],
      "text/plain": [
       "               year         month           day       weekday          hour  \\\n",
       "count  16675.000000  16675.000000  16675.000000  16675.000000  16675.000000   \n",
       "mean    2014.474543      6.444678     15.656732      3.000000     11.390105   \n",
       "std        0.499366      3.455449      8.851585      1.996729      6.911239   \n",
       "min     2014.000000      1.000000      1.000000      0.000000      0.000000   \n",
       "25%     2014.000000      3.000000      8.000000      1.000000      6.000000   \n",
       "50%     2014.000000      6.000000     16.000000      3.000000     11.000000   \n",
       "75%     2015.000000      9.000000     23.000000      5.000000     17.000000   \n",
       "max     2015.000000     12.000000     31.000000      6.000000     23.000000   \n",
       "\n",
       "            holiday   not_workday  not_workday_shift  school_holiday  \\\n",
       "count  16675.000000  16675.000000       16675.000000    16675.000000   \n",
       "mean       0.025427      0.167796           0.167436        0.136672   \n",
       "std        0.157424      0.373696           0.373376        0.343511   \n",
       "min        0.000000      0.000000           0.000000        0.000000   \n",
       "25%        0.000000      0.000000           0.000000        0.000000   \n",
       "50%        0.000000      0.000000           0.000000        0.000000   \n",
       "75%        0.000000      0.000000           0.000000        0.000000   \n",
       "max        1.000000      1.000000           1.000000        1.000000   \n",
       "\n",
       "              Count          Temp     Windspeed          Rain  \n",
       "count  16675.000000  16675.000000  16675.000000  16675.000000  \n",
       "mean      13.142849     10.363490      4.314423      0.071124  \n",
       "std       13.422374      6.713581      2.316641      0.352993  \n",
       "min        0.000000    -12.400000      0.000000      0.000000  \n",
       "25%        3.000000      5.400000      3.000000      0.000000  \n",
       "50%        9.000000     10.200000      4.000000      0.000000  \n",
       "75%       19.000000     15.000000      6.000000      0.000000  \n",
       "max      103.000000     35.900000     17.000000      4.000000  "
      ]
     },
     "execution_count": 171,
     "metadata": {},
     "output_type": "execute_result"
    }
   ],
   "source": [
    "test2.describe()"
   ]
  },
  {
   "cell_type": "code",
   "execution_count": 173,
   "metadata": {},
   "outputs": [
    {
     "data": {
      "image/png": "[encoded data removed]",
      "text/plain": [
       "<Figure size 1152x432 with 1 Axes>"
      ]
     },
     "metadata": {
      "needs_background": "light"
     },
     "output_type": "display_data"
    }
   ],
   "source": [
    "import matplotlib.pyplot as plt\n",
    "import seaborn as sns\n",
    "\n",
    "'''For visualization of trend and seasonality'''\n",
    "count_viz = (test2[['Timestamp', 'Count']]).set_index(['Timestamp'])\n",
    "downsample_series = count_viz.resample('M').mean()  \n",
    "\n",
    "\n",
    "# data visualization via matplotlib and seaborn\n",
    "'''Count over time in data:'''\n",
    "plt.figure(figsize=(16,6))\n",
    "plt.plot(downsample_series)\n",
    "plt.title('Bikes rented in HH - Paulinenplatz/Wohlwillstraße 2014-2016')\n",
    "plt.xlabel('Date')\n",
    "plt.ylabel('Count')\n",
    "None"
   ]
  },
  {
   "cell_type": "markdown",
   "metadata": {},
   "source": [
    "#### 1b) Train test model"
   ]
  },
  {
   "cell_type": "code",
   "execution_count": 174,
   "metadata": {},
   "outputs": [],
   "source": [
    "from sklearn.linear_model import LinearRegression\n",
    "from sklearn.model_selection import train_test_split"
   ]
  },
  {
   "cell_type": "code",
   "execution_count": 175,
   "metadata": {},
   "outputs": [
    {
     "data": {
      "text/plain": [
       "((12506, 9), (4169, 9), (12506,), (4169,))"
      ]
     },
     "execution_count": 175,
     "metadata": {},
     "output_type": "execute_result"
    }
   ],
   "source": [
    "X = test2[['year', 'month', 'weekday', 'not_workday', 'hour',\n",
    "       'school_holiday', 'Temp',\n",
    "       'Windspeed', 'Rain']]\n",
    "        # 'not_workday', 'not_workday_shift'\n",
    "\n",
    "y = test2['Count']\n",
    "\n",
    "Xtrain, Xtest, ytrain, ytest = train_test_split(X, y, random_state=42)\n",
    "Xtrain.shape, Xtest.shape, ytrain.shape, ytest.shape"
   ]
  },
  {
   "cell_type": "code",
   "execution_count": 121,
   "metadata": {},
   "outputs": [],
   "source": [
    "#pd.plotting.scatter_matrix(test2, figsize=(40,40), s=50)\n",
    "#None"
   ]
  },
  {
   "cell_type": "code",
   "execution_count": 195,
   "metadata": {},
   "outputs": [],
   "source": [
    "import numpy as np\n",
    "from sklearn.ensemble import GradientBoostingRegressor\n",
    "from sklearn.ensemble import RandomForestRegressor\n",
    "\n",
    "rfm = RandomForestRegressor(n_estimators=200, \n",
    "                            max_depth=8)\n",
    "\n",
    "gbm = GradientBoostingRegressor(n_estimators=70, \n",
    "                                max_depth=8,\n",
    "                                learning_rate=0.1,\n",
    "                                random_state=1234)"
   ]
  },
  {
   "cell_type": "code",
   "execution_count": 177,
   "metadata": {},
   "outputs": [
    {
     "data": {
      "text/plain": [
       "0.6982912464300853"
      ]
     },
     "execution_count": 177,
     "metadata": {},
     "output_type": "execute_result"
    }
   ],
   "source": [
    "rfm.fit(Xtrain,ytrain)\n",
    "rfm.score(Xtrain,ytrain)"
   ]
  },
  {
   "cell_type": "code",
   "execution_count": 180,
   "metadata": {},
   "outputs": [
    {
     "name": "stdout",
     "output_type": "stream",
     "text": [
      "[0.70392869 0.68153239 0.68693911 0.64190336 0.66557975]\n",
      "0.6759766615666358\n"
     ]
    }
   ],
   "source": [
    "scores = cross_val_score(rfm, Xtrain, ytrain, cv=5)\n",
    "print(scores)\n",
    "print(scores.mean())"
   ]
  },
  {
   "cell_type": "code",
   "execution_count": 196,
   "metadata": {},
   "outputs": [
    {
     "data": {
      "text/plain": [
       "0.8537354478474538"
      ]
     },
     "execution_count": 196,
     "metadata": {},
     "output_type": "execute_result"
    }
   ],
   "source": [
    "gbm.fit(Xtrain,ytrain)\n",
    "gbm.score(Xtrain,ytrain)"
   ]
  },
  {
   "cell_type": "code",
   "execution_count": 197,
   "metadata": {},
   "outputs": [
    {
     "name": "stdout",
     "output_type": "stream",
     "text": [
      "[0.76105066 0.7517963  0.73977144 0.70023937 0.72953335]\n",
      "0.7364782252389628\n"
     ]
    }
   ],
   "source": [
    "scores = cross_val_score(gbm, Xtrain, ytrain, cv=5)\n",
    "print(scores)\n",
    "print(scores.mean())"
   ]
  },
  {
   "cell_type": "code",
   "execution_count": 181,
   "metadata": {},
   "outputs": [],
   "source": [
    "from sklearn.model_selection import GridSearchCV"
   ]
  },
  {
   "cell_type": "code",
   "execution_count": 190,
   "metadata": {},
   "outputs": [],
   "source": [
    "params = {'n_estimators': range(50,150,10), 'max_depth': range(6,10)}"
   ]
  },
  {
   "cell_type": "code",
   "execution_count": 191,
   "metadata": {},
   "outputs": [],
   "source": [
    "grid = GridSearchCV(gbm, param_grid = params, cv=5)"
   ]
  },
  {
   "cell_type": "code",
   "execution_count": 192,
   "metadata": {},
   "outputs": [
    {
     "data": {
      "text/plain": [
       "GridSearchCV(cv=5, error_score='raise-deprecating',\n",
       "       estimator=GradientBoostingRegressor(alpha=0.9, criterion='friedman_mse', init=None,\n",
       "             learning_rate=0.1, loss='ls', max_depth=8, max_features=None,\n",
       "             max_leaf_nodes=None, min_impurity_decrease=0.0,\n",
       "             min_impurity_split=None, min_samples_leaf=1,\n",
       "             min_sampl...=1234, subsample=1.0, tol=0.0001,\n",
       "             validation_fraction=0.1, verbose=0, warm_start=False),\n",
       "       fit_params=None, iid='warn', n_jobs=None,\n",
       "       param_grid={'n_estimators': range(50, 150, 10), 'max_depth': range(6, 10)},\n",
       "       pre_dispatch='2*n_jobs', refit=True, return_train_score='warn',\n",
       "       scoring=None, verbose=0)"
      ]
     },
     "execution_count": 192,
     "metadata": {},
     "output_type": "execute_result"
    }
   ],
   "source": [
    "grid.fit(Xtrain, ytrain)"
   ]
  },
  {
   "cell_type": "code",
   "execution_count": 193,
   "metadata": {},
   "outputs": [
    {
     "data": {
      "text/plain": [
       "{'max_depth': 8, 'n_estimators': 70}"
      ]
     },
     "execution_count": 193,
     "metadata": {},
     "output_type": "execute_result"
    }
   ],
   "source": [
    "grid.best_params_"
   ]
  },
  {
   "cell_type": "code",
   "execution_count": 194,
   "metadata": {},
   "outputs": [
    {
     "data": {
      "text/plain": [
       "0.7364801900904381"
      ]
     },
     "execution_count": 194,
     "metadata": {},
     "output_type": "execute_result"
    }
   ],
   "source": [
    "grid.best_score_"
   ]
  },
  {
   "cell_type": "code",
   "execution_count": null,
   "metadata": {},
   "outputs": [],
   "source": []
  },
  {
   "cell_type": "code",
   "execution_count": 199,
   "metadata": {},
   "outputs": [
    {
     "data": {
      "text/html": [
       "<div>\n",
       "<style scoped>\n",
       "    .dataframe tbody tr th:only-of-type {\n",
       "        vertical-align: middle;\n",
       "    }\n",
       "\n",
       "    .dataframe tbody tr th {\n",
       "        vertical-align: top;\n",
       "    }\n",
       "\n",
       "    .dataframe thead th {\n",
       "        text-align: right;\n",
       "    }\n",
       "</style>\n",
       "<table border=\"1\" class=\"dataframe\">\n",
       "  <thead>\n",
       "    <tr style=\"text-align: right;\">\n",
       "      <th></th>\n",
       "      <th>year</th>\n",
       "      <th>month</th>\n",
       "      <th>weekday</th>\n",
       "      <th>not_workday</th>\n",
       "      <th>hour</th>\n",
       "      <th>school_holiday</th>\n",
       "      <th>Temp</th>\n",
       "      <th>Windspeed</th>\n",
       "      <th>Rain</th>\n",
       "    </tr>\n",
       "  </thead>\n",
       "  <tbody>\n",
       "    <tr>\n",
       "      <th>0</th>\n",
       "      <td>2014</td>\n",
       "      <td>1</td>\n",
       "      <td>2</td>\n",
       "      <td>1</td>\n",
       "      <td>0</td>\n",
       "      <td>0</td>\n",
       "      <td>2.4</td>\n",
       "      <td>4</td>\n",
       "      <td>0</td>\n",
       "    </tr>\n",
       "    <tr>\n",
       "      <th>1</th>\n",
       "      <td>2014</td>\n",
       "      <td>1</td>\n",
       "      <td>2</td>\n",
       "      <td>1</td>\n",
       "      <td>1</td>\n",
       "      <td>0</td>\n",
       "      <td>2.1</td>\n",
       "      <td>6</td>\n",
       "      <td>0</td>\n",
       "    </tr>\n",
       "    <tr>\n",
       "      <th>2</th>\n",
       "      <td>2014</td>\n",
       "      <td>1</td>\n",
       "      <td>2</td>\n",
       "      <td>1</td>\n",
       "      <td>2</td>\n",
       "      <td>0</td>\n",
       "      <td>2.0</td>\n",
       "      <td>5</td>\n",
       "      <td>0</td>\n",
       "    </tr>\n",
       "    <tr>\n",
       "      <th>3</th>\n",
       "      <td>2014</td>\n",
       "      <td>1</td>\n",
       "      <td>2</td>\n",
       "      <td>1</td>\n",
       "      <td>3</td>\n",
       "      <td>0</td>\n",
       "      <td>2.1</td>\n",
       "      <td>5</td>\n",
       "      <td>0</td>\n",
       "    </tr>\n",
       "    <tr>\n",
       "      <th>4</th>\n",
       "      <td>2014</td>\n",
       "      <td>1</td>\n",
       "      <td>2</td>\n",
       "      <td>1</td>\n",
       "      <td>4</td>\n",
       "      <td>0</td>\n",
       "      <td>1.6</td>\n",
       "      <td>5</td>\n",
       "      <td>0</td>\n",
       "    </tr>\n",
       "  </tbody>\n",
       "</table>\n",
       "</div>"
      ],
      "text/plain": [
       "   year  month  weekday  not_workday  hour  school_holiday  Temp  Windspeed  \\\n",
       "0  2014      1        2            1     0               0   2.4          4   \n",
       "1  2014      1        2            1     1               0   2.1          6   \n",
       "2  2014      1        2            1     2               0   2.0          5   \n",
       "3  2014      1        2            1     3               0   2.1          5   \n",
       "4  2014      1        2            1     4               0   1.6          5   \n",
       "\n",
       "   Rain  \n",
       "0     0  \n",
       "1     0  \n",
       "2     0  \n",
       "3     0  \n",
       "4     0  "
      ]
     },
     "execution_count": 199,
     "metadata": {},
     "output_type": "execute_result"
    }
   ],
   "source": [
    "graph.head()"
   ]
  },
  {
   "cell_type": "code",
   "execution_count": 219,
   "metadata": {},
   "outputs": [
    {
     "data": {
      "image/png": "[encoded data removed]",
      "text/plain": [
       "<Figure size 1440x720 with 1 Axes>"
      ]
     },
     "metadata": {
      "needs_background": "light"
     },
     "output_type": "display_data"
    }
   ],
   "source": [
    "plt.figure(figsize=(20,10))\n",
    "graph = test2[['year', 'day', 'month', 'weekday', 'not_workday', 'hour',\n",
    "       'school_holiday', 'Temp',\n",
    "       'Windspeed', 'Rain']]\n",
    "graph = graph[graph.month == 1]\n",
    "graph = graph[graph.year == 2014]\n",
    "graph = graph[graph.day < 7]\n",
    "X = graph.copy()\n",
    "del X['day']\n",
    "ypred = gbm.predict(X)\n",
    "graph[\"Num\"] = (graph[\"day\"]-1) * 24 + graph[\"hour\"]\n",
    "graph = graph.sort_values(\"Num\")\n",
    "graph[\"Pred\"] = ypred\n",
    "graph[\"Count\"] = y\n",
    "graph[\"Diff\"] = graph[\"Count\"] - graph[\"Pred\"]\n",
    "\n",
    "plt.plot(graph[\"Num\"], graph[\"Count\"])\n",
    "plt.plot(graph[\"Num\"], graph[\"Pred\"])\n",
    "plt.show()"
   ]
  },
  {
   "cell_type": "code",
   "execution_count": null,
   "metadata": {},
   "outputs": [],
   "source": []
  },
  {
   "cell_type": "code",
   "execution_count": null,
   "metadata": {},
   "outputs": [],
   "source": []
  },
  {
   "cell_type": "code",
   "execution_count": null,
   "metadata": {},
   "outputs": [],
   "source": []
  },
  {
   "cell_type": "code",
   "execution_count": null,
   "metadata": {},
   "outputs": [],
   "source": []
  },
  {
   "cell_type": "code",
   "execution_count": null,
   "metadata": {},
   "outputs": [],
   "source": []
  },
  {
   "cell_type": "code",
   "execution_count": null,
   "metadata": {},
   "outputs": [],
   "source": []
  },
  {
   "cell_type": "code",
   "execution_count": null,
   "metadata": {},
   "outputs": [],
   "source": []
  },
  {
   "cell_type": "code",
   "execution_count": null,
   "metadata": {},
   "outputs": [],
   "source": []
  },
  {
   "cell_type": "code",
   "execution_count": null,
   "metadata": {},
   "outputs": [],
   "source": []
  }
 ],
 "metadata": {
  "kernelspec": {
   "display_name": "Python 3",
   "language": "python",
   "name": "python3"
  },
  "language_info": {
   "codemirror_mode": {
    "name": "ipython",
    "version": 3
   },
   "file_extension": ".py",
   "mimetype": "text/x-python",
   "name": "python",
   "nbconvert_exporter": "python",
   "pygments_lexer": "ipython3",
   "version": "3.7.3"
  }
 },
 "nbformat": 4,
 "nbformat_minor": 2
}
